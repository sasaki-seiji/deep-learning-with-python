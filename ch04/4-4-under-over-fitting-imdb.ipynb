{
 "cells": [
  {
   "cell_type": "code",
   "execution_count": 1,
   "metadata": {},
   "outputs": [
    {
     "name": "stderr",
     "output_type": "stream",
     "text": [
      "Using TensorFlow backend.\n",
      "/home/sasaki/.local/lib/python3.6/site-packages/tensorflow/python/framework/dtypes.py:516: FutureWarning: Passing (type, 1) or '1type' as a synonym of type is deprecated; in a future version of numpy, it will be understood as (type, (1,)) / '(1,)type'.\n",
      "  _np_qint8 = np.dtype([(\"qint8\", np.int8, 1)])\n",
      "/home/sasaki/.local/lib/python3.6/site-packages/tensorflow/python/framework/dtypes.py:517: FutureWarning: Passing (type, 1) or '1type' as a synonym of type is deprecated; in a future version of numpy, it will be understood as (type, (1,)) / '(1,)type'.\n",
      "  _np_quint8 = np.dtype([(\"quint8\", np.uint8, 1)])\n",
      "/home/sasaki/.local/lib/python3.6/site-packages/tensorflow/python/framework/dtypes.py:518: FutureWarning: Passing (type, 1) or '1type' as a synonym of type is deprecated; in a future version of numpy, it will be understood as (type, (1,)) / '(1,)type'.\n",
      "  _np_qint16 = np.dtype([(\"qint16\", np.int16, 1)])\n",
      "/home/sasaki/.local/lib/python3.6/site-packages/tensorflow/python/framework/dtypes.py:519: FutureWarning: Passing (type, 1) or '1type' as a synonym of type is deprecated; in a future version of numpy, it will be understood as (type, (1,)) / '(1,)type'.\n",
      "  _np_quint16 = np.dtype([(\"quint16\", np.uint16, 1)])\n",
      "/home/sasaki/.local/lib/python3.6/site-packages/tensorflow/python/framework/dtypes.py:520: FutureWarning: Passing (type, 1) or '1type' as a synonym of type is deprecated; in a future version of numpy, it will be understood as (type, (1,)) / '(1,)type'.\n",
      "  _np_qint32 = np.dtype([(\"qint32\", np.int32, 1)])\n",
      "/home/sasaki/.local/lib/python3.6/site-packages/tensorflow/python/framework/dtypes.py:525: FutureWarning: Passing (type, 1) or '1type' as a synonym of type is deprecated; in a future version of numpy, it will be understood as (type, (1,)) / '(1,)type'.\n",
      "  np_resource = np.dtype([(\"resource\", np.ubyte, 1)])\n",
      "/home/sasaki/.local/lib/python3.6/site-packages/tensorboard/compat/tensorflow_stub/dtypes.py:541: FutureWarning: Passing (type, 1) or '1type' as a synonym of type is deprecated; in a future version of numpy, it will be understood as (type, (1,)) / '(1,)type'.\n",
      "  _np_qint8 = np.dtype([(\"qint8\", np.int8, 1)])\n",
      "/home/sasaki/.local/lib/python3.6/site-packages/tensorboard/compat/tensorflow_stub/dtypes.py:542: FutureWarning: Passing (type, 1) or '1type' as a synonym of type is deprecated; in a future version of numpy, it will be understood as (type, (1,)) / '(1,)type'.\n",
      "  _np_quint8 = np.dtype([(\"quint8\", np.uint8, 1)])\n",
      "/home/sasaki/.local/lib/python3.6/site-packages/tensorboard/compat/tensorflow_stub/dtypes.py:543: FutureWarning: Passing (type, 1) or '1type' as a synonym of type is deprecated; in a future version of numpy, it will be understood as (type, (1,)) / '(1,)type'.\n",
      "  _np_qint16 = np.dtype([(\"qint16\", np.int16, 1)])\n",
      "/home/sasaki/.local/lib/python3.6/site-packages/tensorboard/compat/tensorflow_stub/dtypes.py:544: FutureWarning: Passing (type, 1) or '1type' as a synonym of type is deprecated; in a future version of numpy, it will be understood as (type, (1,)) / '(1,)type'.\n",
      "  _np_quint16 = np.dtype([(\"quint16\", np.uint16, 1)])\n",
      "/home/sasaki/.local/lib/python3.6/site-packages/tensorboard/compat/tensorflow_stub/dtypes.py:545: FutureWarning: Passing (type, 1) or '1type' as a synonym of type is deprecated; in a future version of numpy, it will be understood as (type, (1,)) / '(1,)type'.\n",
      "  _np_qint32 = np.dtype([(\"qint32\", np.int32, 1)])\n",
      "/home/sasaki/.local/lib/python3.6/site-packages/tensorboard/compat/tensorflow_stub/dtypes.py:550: FutureWarning: Passing (type, 1) or '1type' as a synonym of type is deprecated; in a future version of numpy, it will be understood as (type, (1,)) / '(1,)type'.\n",
      "  np_resource = np.dtype([(\"resource\", np.ubyte, 1)])\n"
     ]
    }
   ],
   "source": [
    "from keras.datasets import imdb\n",
    "\n",
    "(train_data, train_labels), (test_data, test_labels) = imdb.load_data(num_words=5000)"
   ]
  },
  {
   "cell_type": "code",
   "execution_count": 2,
   "metadata": {},
   "outputs": [
    {
     "data": {
      "text/plain": [
       "array([0., 1., 1., ..., 0., 0., 0.], dtype=float32)"
      ]
     },
     "execution_count": 2,
     "metadata": {},
     "output_type": "execute_result"
    }
   ],
   "source": [
    "import numpy as np\n",
    "\n",
    "def vectorize_sequence(sequence, dimension=5000):\n",
    "    results = np.zeros((len(sequence), dimension), dtype=np.float32)\n",
    "    for i, sequence in enumerate(sequence):\n",
    "        results[i, sequence] = 1.\n",
    "    return results\n",
    "\n",
    "x_train = vectorize_sequence(train_data)\n",
    "x_test = vectorize_sequence(test_data)\n",
    "\n",
    "x_train[0]"
   ]
  },
  {
   "cell_type": "code",
   "execution_count": 3,
   "metadata": {},
   "outputs": [
    {
     "data": {
      "text/plain": [
       "array([1., 0., 0., ..., 0., 1., 0.], dtype=float32)"
      ]
     },
     "execution_count": 3,
     "metadata": {},
     "output_type": "execute_result"
    }
   ],
   "source": [
    "y_train = np.asarray(train_labels).astype('float32')\n",
    "y_test = np.asarray(test_labels).astype('float32')\n",
    "\n",
    "y_train"
   ]
  },
  {
   "cell_type": "code",
   "execution_count": 4,
   "metadata": {},
   "outputs": [],
   "source": [
    "from keras import models\n",
    "from keras import layers\n",
    "\n",
    "model = models.Sequential()\n",
    "model.add(layers.Dense(16, activation='relu', input_shape=(5000,)))\n",
    "model.add(layers.Dense(16, activation='relu'))\n",
    "model.add(layers.Dense(1, activation='sigmoid'))"
   ]
  },
  {
   "cell_type": "code",
   "execution_count": 5,
   "metadata": {},
   "outputs": [
    {
     "name": "stdout",
     "output_type": "stream",
     "text": [
      "WARNING:tensorflow:From /home/sasaki/.local/lib/python3.6/site-packages/tensorflow/python/ops/nn_impl.py:180: add_dispatch_support.<locals>.wrapper (from tensorflow.python.ops.array_ops) is deprecated and will be removed in a future version.\n",
      "Instructions for updating:\n",
      "Use tf.where in 2.0, which has the same broadcast rule as np.where\n"
     ]
    }
   ],
   "source": [
    "model.compile(optimizer='rmsprop', loss='binary_crossentropy', metrics=['accuracy'])"
   ]
  },
  {
   "cell_type": "code",
   "execution_count": 6,
   "metadata": {},
   "outputs": [],
   "source": [
    "x_val = x_train[:10000]\n",
    "partial_x_train = x_train[10000:]\n",
    "\n",
    "y_val = y_train[:10000]\n",
    "partial_y_train = y_train[10000:]"
   ]
  },
  {
   "cell_type": "code",
   "execution_count": 7,
   "metadata": {},
   "outputs": [
    {
     "name": "stdout",
     "output_type": "stream",
     "text": [
      "WARNING:tensorflow:From /home/sasaki/.local/lib/python3.6/site-packages/keras/backend/tensorflow_backend.py:422: The name tf.global_variables is deprecated. Please use tf.compat.v1.global_variables instead.\n",
      "\n",
      "Train on 15000 samples, validate on 10000 samples\n",
      "Epoch 1/20\n",
      "15000/15000 [==============================] - 11s 763us/step - loss: 0.4957 - accuracy: 0.7878 - val_loss: 0.3734 - val_accuracy: 0.8660\n",
      "Epoch 2/20\n",
      "15000/15000 [==============================] - 1s 70us/step - loss: 0.3128 - accuracy: 0.8905 - val_loss: 0.3066 - val_accuracy: 0.8830\n",
      "Epoch 3/20\n",
      "15000/15000 [==============================] - 1s 45us/step - loss: 0.2466 - accuracy: 0.9115 - val_loss: 0.3576 - val_accuracy: 0.8494\n",
      "Epoch 4/20\n",
      "15000/15000 [==============================] - 1s 48us/step - loss: 0.2135 - accuracy: 0.9213 - val_loss: 0.2930 - val_accuracy: 0.8818\n",
      "Epoch 5/20\n",
      "15000/15000 [==============================] - 1s 48us/step - loss: 0.1899 - accuracy: 0.9318 - val_loss: 0.2974 - val_accuracy: 0.8791\n",
      "Epoch 6/20\n",
      "15000/15000 [==============================] - 1s 47us/step - loss: 0.1672 - accuracy: 0.9410 - val_loss: 0.2964 - val_accuracy: 0.8809\n",
      "Epoch 7/20\n",
      "15000/15000 [==============================] - 1s 51us/step - loss: 0.1506 - accuracy: 0.9469 - val_loss: 0.3091 - val_accuracy: 0.8789\n",
      "Epoch 8/20\n",
      "15000/15000 [==============================] - 1s 48us/step - loss: 0.1376 - accuracy: 0.9522 - val_loss: 0.3277 - val_accuracy: 0.8755\n",
      "Epoch 9/20\n",
      "15000/15000 [==============================] - 1s 47us/step - loss: 0.1252 - accuracy: 0.9572 - val_loss: 0.3409 - val_accuracy: 0.8722\n",
      "Epoch 10/20\n",
      "15000/15000 [==============================] - 1s 48us/step - loss: 0.1144 - accuracy: 0.9611 - val_loss: 0.3567 - val_accuracy: 0.8690\n",
      "Epoch 11/20\n",
      "15000/15000 [==============================] - 1s 49us/step - loss: 0.1052 - accuracy: 0.9654 - val_loss: 0.3661 - val_accuracy: 0.8693\n",
      "Epoch 12/20\n",
      "15000/15000 [==============================] - 1s 46us/step - loss: 0.0919 - accuracy: 0.9703 - val_loss: 0.3792 - val_accuracy: 0.8684\n",
      "Epoch 13/20\n",
      "15000/15000 [==============================] - 1s 50us/step - loss: 0.0842 - accuracy: 0.9734 - val_loss: 0.4202 - val_accuracy: 0.8635\n",
      "Epoch 14/20\n",
      "15000/15000 [==============================] - 1s 53us/step - loss: 0.0807 - accuracy: 0.9729 - val_loss: 0.4146 - val_accuracy: 0.8684\n",
      "Epoch 15/20\n",
      "15000/15000 [==============================] - 1s 61us/step - loss: 0.0685 - accuracy: 0.9797 - val_loss: 0.4431 - val_accuracy: 0.8630\n",
      "Epoch 16/20\n",
      "15000/15000 [==============================] - 1s 51us/step - loss: 0.0606 - accuracy: 0.9833 - val_loss: 0.5210 - val_accuracy: 0.8486\n",
      "Epoch 17/20\n",
      "15000/15000 [==============================] - 1s 49us/step - loss: 0.0559 - accuracy: 0.9833 - val_loss: 0.4671 - val_accuracy: 0.8636\n",
      "Epoch 18/20\n",
      "15000/15000 [==============================] - 1s 52us/step - loss: 0.0499 - accuracy: 0.9861 - val_loss: 0.4934 - val_accuracy: 0.8624\n",
      "Epoch 19/20\n",
      "15000/15000 [==============================] - 1s 49us/step - loss: 0.0463 - accuracy: 0.9870 - val_loss: 0.5142 - val_accuracy: 0.8629\n",
      "Epoch 20/20\n",
      "15000/15000 [==============================] - 1s 50us/step - loss: 0.0379 - accuracy: 0.9912 - val_loss: 0.5315 - val_accuracy: 0.8615\n"
     ]
    }
   ],
   "source": [
    "history = model.fit(partial_x_train, partial_y_train,\n",
    "                   epochs=20, batch_size=512,\n",
    "                   validation_data=(x_val, y_val))"
   ]
  },
  {
   "cell_type": "code",
   "execution_count": 8,
   "metadata": {},
   "outputs": [],
   "source": [
    "from keras import models\n",
    "from keras import layers\n",
    "\n",
    "model4 = models.Sequential()\n",
    "model4.add(layers.Dense(4, activation='relu', input_shape=(5000,)))\n",
    "model4.add(layers.Dense(4, activation='relu'))\n",
    "model4.add(layers.Dense(1, activation='sigmoid'))"
   ]
  },
  {
   "cell_type": "code",
   "execution_count": 10,
   "metadata": {},
   "outputs": [],
   "source": [
    "model4.compile(optimizer='rmsprop', loss='binary_crossentropy', metrics=['accuracy'])"
   ]
  },
  {
   "cell_type": "code",
   "execution_count": 11,
   "metadata": {},
   "outputs": [
    {
     "name": "stdout",
     "output_type": "stream",
     "text": [
      "Train on 15000 samples, validate on 10000 samples\n",
      "Epoch 1/20\n",
      "15000/15000 [==============================] - 2s 109us/step - loss: 0.6341 - accuracy: 0.7399 - val_loss: 0.5766 - val_accuracy: 0.8191\n",
      "Epoch 2/20\n",
      "15000/15000 [==============================] - 2s 105us/step - loss: 0.5145 - accuracy: 0.8631 - val_loss: 0.4791 - val_accuracy: 0.8584\n",
      "Epoch 3/20\n",
      "15000/15000 [==============================] - 1s 61us/step - loss: 0.4259 - accuracy: 0.8829 - val_loss: 0.4117 - val_accuracy: 0.8640\n",
      "Epoch 4/20\n",
      "15000/15000 [==============================] - 1s 49us/step - loss: 0.3604 - accuracy: 0.8926 - val_loss: 0.3643 - val_accuracy: 0.8726\n",
      "Epoch 5/20\n",
      "15000/15000 [==============================] - 1s 57us/step - loss: 0.3116 - accuracy: 0.9033 - val_loss: 0.3378 - val_accuracy: 0.8732\n",
      "Epoch 6/20\n",
      "15000/15000 [==============================] - 1s 48us/step - loss: 0.2757 - accuracy: 0.9118 - val_loss: 0.3146 - val_accuracy: 0.8808\n",
      "Epoch 7/20\n",
      "15000/15000 [==============================] - 1s 60us/step - loss: 0.2482 - accuracy: 0.9187 - val_loss: 0.2993 - val_accuracy: 0.8825\n",
      "Epoch 8/20\n",
      "15000/15000 [==============================] - 1s 48us/step - loss: 0.2267 - accuracy: 0.9241 - val_loss: 0.2942 - val_accuracy: 0.8822\n",
      "Epoch 9/20\n",
      "15000/15000 [==============================] - 1s 50us/step - loss: 0.2100 - accuracy: 0.9283 - val_loss: 0.2846 - val_accuracy: 0.8847\n",
      "Epoch 10/20\n",
      "15000/15000 [==============================] - 1s 49us/step - loss: 0.1959 - accuracy: 0.9319 - val_loss: 0.2876 - val_accuracy: 0.8835\n",
      "Epoch 11/20\n",
      "15000/15000 [==============================] - 1s 47us/step - loss: 0.1841 - accuracy: 0.9375 - val_loss: 0.2837 - val_accuracy: 0.8838\n",
      "Epoch 12/20\n",
      "15000/15000 [==============================] - 1s 51us/step - loss: 0.1743 - accuracy: 0.9406 - val_loss: 0.2853 - val_accuracy: 0.8837\n",
      "Epoch 13/20\n",
      "15000/15000 [==============================] - 1s 49us/step - loss: 0.1646 - accuracy: 0.9435 - val_loss: 0.2881 - val_accuracy: 0.8842\n",
      "Epoch 14/20\n",
      "15000/15000 [==============================] - 2s 105us/step - loss: 0.1566 - accuracy: 0.9457 - val_loss: 0.2952 - val_accuracy: 0.8800\n",
      "Epoch 15/20\n",
      "15000/15000 [==============================] - 1s 99us/step - loss: 0.1496 - accuracy: 0.9487 - val_loss: 0.2976 - val_accuracy: 0.8806\n",
      "Epoch 16/20\n",
      "15000/15000 [==============================] - 1s 62us/step - loss: 0.1434 - accuracy: 0.9523 - val_loss: 0.3039 - val_accuracy: 0.8793\n",
      "Epoch 17/20\n",
      "15000/15000 [==============================] - 1s 52us/step - loss: 0.1365 - accuracy: 0.9538 - val_loss: 0.3210 - val_accuracy: 0.8774\n",
      "Epoch 18/20\n",
      "15000/15000 [==============================] - 1s 50us/step - loss: 0.1315 - accuracy: 0.9560 - val_loss: 0.3158 - val_accuracy: 0.8777\n",
      "Epoch 19/20\n",
      "15000/15000 [==============================] - 1s 67us/step - loss: 0.1255 - accuracy: 0.9575 - val_loss: 0.3245 - val_accuracy: 0.8775\n",
      "Epoch 20/20\n",
      "15000/15000 [==============================] - 1s 75us/step - loss: 0.1208 - accuracy: 0.9598 - val_loss: 0.3344 - val_accuracy: 0.8764\n"
     ]
    }
   ],
   "source": [
    "history4 = model4.fit(partial_x_train, partial_y_train,\n",
    "                   epochs=20, batch_size=512,\n",
    "                   validation_data=(x_val, y_val))"
   ]
  },
  {
   "cell_type": "code",
   "execution_count": 13,
   "metadata": {},
   "outputs": [
    {
     "data": {
      "image/png": "[encoded data removed]",
      "text/plain": [
       "<matplotlib.figure.Figure at 0x7f0affaf9668>"
      ]
     },
     "metadata": {},
     "output_type": "display_data"
    }
   ],
   "source": [
    "import matplotlib.pyplot as plt\n",
    "\n",
    "val_loss_values = history.history['val_loss']\n",
    "val_loss_values4 = history4.history['val_loss']\n",
    "\n",
    "epochs = range(1, len(val_loss_values)+1)\n",
    "\n",
    "plt.plot(epochs, val_loss_values, '+', label='Original model')\n",
    "plt.plot(epochs, val_loss_values4, 'o', label='Smaller model')\n",
    "plt.title('Smaller model')\n",
    "plt.xlabel('Epochs')\n",
    "plt.ylabel('Validation Loss')\n",
    "plt.legend()\n",
    "plt.show()"
   ]
  },
  {
   "cell_type": "code",
   "execution_count": 14,
   "metadata": {},
   "outputs": [],
   "source": [
    "from keras import models\n",
    "from keras import layers\n",
    "\n",
    "model512 = models.Sequential()\n",
    "model512.add(layers.Dense(512, activation='relu', input_shape=(5000,)))\n",
    "model512.add(layers.Dense(512, activation='relu'))\n",
    "model512.add(layers.Dense(1, activation='sigmoid'))"
   ]
  },
  {
   "cell_type": "code",
   "execution_count": 16,
   "metadata": {},
   "outputs": [],
   "source": [
    "model512.compile(optimizer='rmsprop', loss='binary_crossentropy', metrics=['accuracy'])"
   ]
  },
  {
   "cell_type": "code",
   "execution_count": 17,
   "metadata": {},
   "outputs": [
    {
     "name": "stdout",
     "output_type": "stream",
     "text": [
      "Train on 15000 samples, validate on 10000 samples\n",
      "Epoch 1/20\n",
      "15000/15000 [==============================] - 19s 1ms/step - loss: 0.5652 - accuracy: 0.7388 - val_loss: 0.3294 - val_accuracy: 0.8754\n",
      "Epoch 2/20\n",
      "15000/15000 [==============================] - 7s 458us/step - loss: 0.2824 - accuracy: 0.8878 - val_loss: 0.2787 - val_accuracy: 0.8834\n",
      "Epoch 3/20\n",
      "15000/15000 [==============================] - 6s 374us/step - loss: 0.1945 - accuracy: 0.9223 - val_loss: 0.3074 - val_accuracy: 0.8772\n",
      "Epoch 4/20\n",
      "15000/15000 [==============================] - 6s 369us/step - loss: 0.1089 - accuracy: 0.9617 - val_loss: 0.2978 - val_accuracy: 0.8832\n",
      "Epoch 5/20\n",
      "15000/15000 [==============================] - 7s 458us/step - loss: 0.0840 - accuracy: 0.9756 - val_loss: 0.3455 - val_accuracy: 0.8849\n",
      "Epoch 6/20\n",
      "15000/15000 [==============================] - 6s 407us/step - loss: 0.0054 - accuracy: 0.9993 - val_loss: 0.4613 - val_accuracy: 0.8837\n",
      "Epoch 7/20\n",
      "15000/15000 [==============================] - 7s 482us/step - loss: 8.0553e-04 - accuracy: 0.9999 - val_loss: 0.5804 - val_accuracy: 0.8820\n",
      "Epoch 8/20\n",
      "15000/15000 [==============================] - 6s 401us/step - loss: 9.0466e-05 - accuracy: 1.0000 - val_loss: 0.6855 - val_accuracy: 0.8827\n",
      "Epoch 9/20\n",
      "15000/15000 [==============================] - 6s 400us/step - loss: 1.5239e-05 - accuracy: 1.0000 - val_loss: 0.7808 - val_accuracy: 0.8817\n",
      "Epoch 10/20\n",
      "15000/15000 [==============================] - 6s 400us/step - loss: 3.2934e-06 - accuracy: 1.0000 - val_loss: 0.8633 - val_accuracy: 0.8817\n",
      "Epoch 11/20\n",
      "15000/15000 [==============================] - 6s 374us/step - loss: 9.0842e-07 - accuracy: 1.0000 - val_loss: 0.9439 - val_accuracy: 0.8813\n",
      "Epoch 12/20\n",
      "15000/15000 [==============================] - 6s 403us/step - loss: 2.5637e-07 - accuracy: 1.0000 - val_loss: 1.0116 - val_accuracy: 0.8811\n",
      "Epoch 13/20\n",
      "15000/15000 [==============================] - 6s 388us/step - loss: 9.1320e-08 - accuracy: 1.0000 - val_loss: 1.0685 - val_accuracy: 0.8821\n",
      "Epoch 14/20\n",
      "15000/15000 [==============================] - 6s 376us/step - loss: 4.3686e-08 - accuracy: 1.0000 - val_loss: 1.1070 - val_accuracy: 0.8815\n",
      "Epoch 15/20\n",
      "15000/15000 [==============================] - 6s 373us/step - loss: 2.6600e-08 - accuracy: 1.0000 - val_loss: 1.1302 - val_accuracy: 0.8818\n",
      "Epoch 16/20\n",
      "15000/15000 [==============================] - 6s 373us/step - loss: 1.8789e-08 - accuracy: 1.0000 - val_loss: 1.1498 - val_accuracy: 0.8818\n",
      "Epoch 17/20\n",
      "15000/15000 [==============================] - 6s 397us/step - loss: 1.4528e-08 - accuracy: 1.0000 - val_loss: 1.1648 - val_accuracy: 0.8816\n",
      "Epoch 18/20\n",
      "15000/15000 [==============================] - 6s 371us/step - loss: 1.1805e-08 - accuracy: 1.0000 - val_loss: 1.1757 - val_accuracy: 0.8821\n",
      "Epoch 19/20\n",
      "15000/15000 [==============================] - 6s 372us/step - loss: 9.9853e-09 - accuracy: 1.0000 - val_loss: 1.1843 - val_accuracy: 0.8820\n",
      "Epoch 20/20\n",
      "15000/15000 [==============================] - 6s 373us/step - loss: 8.6639e-09 - accuracy: 1.0000 - val_loss: 1.1919 - val_accuracy: 0.8816\n"
     ]
    }
   ],
   "source": [
    "history512 = model512.fit(partial_x_train, partial_y_train,\n",
    "                   epochs=20, batch_size=512,\n",
    "                   validation_data=(x_val, y_val))"
   ]
  },
  {
   "cell_type": "code",
   "execution_count": 18,
   "metadata": {},
   "outputs": [
    {
     "data": {
      "image/png": "[encoded data removed]",
      "text/plain": [
       "<matplotlib.figure.Figure at 0x7f0aff7f3eb8>"
      ]
     },
     "metadata": {},
     "output_type": "display_data"
    }
   ],
   "source": [
    "import matplotlib.pyplot as plt\n",
    "\n",
    "val_loss_values = history.history['val_loss']\n",
    "val_loss_values512 = history512.history['val_loss']\n",
    "\n",
    "epochs = range(1, len(val_loss_values)+1)\n",
    "\n",
    "plt.plot(epochs, val_loss_values, '+', label='Original model')\n",
    "plt.plot(epochs, val_loss_values512, 'o', label='Bigger model')\n",
    "plt.title('Bigger model')\n",
    "plt.xlabel('Epochs')\n",
    "plt.ylabel('Validation Loss')\n",
    "plt.legend()\n",
    "plt.show()"
   ]
  },
  {
   "cell_type": "code",
   "execution_count": 19,
   "metadata": {},
   "outputs": [
    {
     "data": {
      "image/png": "[encoded data removed]",
      "text/plain": [
       "<matplotlib.figure.Figure at 0x7f0aff6925f8>"
      ]
     },
     "metadata": {},
     "output_type": "display_data"
    }
   ],
   "source": [
    "import matplotlib.pyplot as plt\n",
    "\n",
    "loss_values = history.history['loss']\n",
    "loss_values512 = history512.history['loss']\n",
    "\n",
    "epochs = range(1, len(loss_values)+1)\n",
    "\n",
    "plt.plot(epochs, loss_values, '+', label='Original model')\n",
    "plt.plot(epochs, loss_values512, 'o', label='Bigger model')\n",
    "plt.title('Training Loss for model size')\n",
    "plt.xlabel('Epochs')\n",
    "plt.ylabel('Training Loss')\n",
    "plt.legend()\n",
    "plt.show()"
   ]
  },
  {
   "cell_type": "code",
   "execution_count": null,
   "metadata": {},
   "outputs": [],
   "source": []
  }
 ],
 "metadata": {
  "kernelspec": {
   "display_name": "Python 3",
   "language": "python",
   "name": "python3"
  },
  "language_info": {
   "codemirror_mode": {
    "name": "ipython",
    "version": 3
   },
   "file_extension": ".py",
   "mimetype": "text/x-python",
   "name": "python",
   "nbconvert_exporter": "python",
   "pygments_lexer": "ipython3",
   "version": "3.6.9"
  }
 },
 "nbformat": 4,
 "nbformat_minor": 2
}
