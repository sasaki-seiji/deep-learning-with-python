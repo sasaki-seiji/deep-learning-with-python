{
 "cells": [
  {
   "cell_type": "code",
   "execution_count": 1,
   "metadata": {},
   "outputs": [
    {
     "name": "stderr",
     "output_type": "stream",
     "text": [
      "Using TensorFlow backend.\n",
      "/home/sasaki/.local/lib/python3.6/site-packages/tensorflow/python/framework/dtypes.py:516: FutureWarning: Passing (type, 1) or '1type' as a synonym of type is deprecated; in a future version of numpy, it will be understood as (type, (1,)) / '(1,)type'.\n",
      "  _np_qint8 = np.dtype([(\"qint8\", np.int8, 1)])\n",
      "/home/sasaki/.local/lib/python3.6/site-packages/tensorflow/python/framework/dtypes.py:517: FutureWarning: Passing (type, 1) or '1type' as a synonym of type is deprecated; in a future version of numpy, it will be understood as (type, (1,)) / '(1,)type'.\n",
      "  _np_quint8 = np.dtype([(\"quint8\", np.uint8, 1)])\n",
      "/home/sasaki/.local/lib/python3.6/site-packages/tensorflow/python/framework/dtypes.py:518: FutureWarning: Passing (type, 1) or '1type' as a synonym of type is deprecated; in a future version of numpy, it will be understood as (type, (1,)) / '(1,)type'.\n",
      "  _np_qint16 = np.dtype([(\"qint16\", np.int16, 1)])\n",
      "/home/sasaki/.local/lib/python3.6/site-packages/tensorflow/python/framework/dtypes.py:519: FutureWarning: Passing (type, 1) or '1type' as a synonym of type is deprecated; in a future version of numpy, it will be understood as (type, (1,)) / '(1,)type'.\n",
      "  _np_quint16 = np.dtype([(\"quint16\", np.uint16, 1)])\n",
      "/home/sasaki/.local/lib/python3.6/site-packages/tensorflow/python/framework/dtypes.py:520: FutureWarning: Passing (type, 1) or '1type' as a synonym of type is deprecated; in a future version of numpy, it will be understood as (type, (1,)) / '(1,)type'.\n",
      "  _np_qint32 = np.dtype([(\"qint32\", np.int32, 1)])\n",
      "/home/sasaki/.local/lib/python3.6/site-packages/tensorflow/python/framework/dtypes.py:525: FutureWarning: Passing (type, 1) or '1type' as a synonym of type is deprecated; in a future version of numpy, it will be understood as (type, (1,)) / '(1,)type'.\n",
      "  np_resource = np.dtype([(\"resource\", np.ubyte, 1)])\n",
      "/home/sasaki/.local/lib/python3.6/site-packages/tensorboard/compat/tensorflow_stub/dtypes.py:541: FutureWarning: Passing (type, 1) or '1type' as a synonym of type is deprecated; in a future version of numpy, it will be understood as (type, (1,)) / '(1,)type'.\n",
      "  _np_qint8 = np.dtype([(\"qint8\", np.int8, 1)])\n",
      "/home/sasaki/.local/lib/python3.6/site-packages/tensorboard/compat/tensorflow_stub/dtypes.py:542: FutureWarning: Passing (type, 1) or '1type' as a synonym of type is deprecated; in a future version of numpy, it will be understood as (type, (1,)) / '(1,)type'.\n",
      "  _np_quint8 = np.dtype([(\"quint8\", np.uint8, 1)])\n",
      "/home/sasaki/.local/lib/python3.6/site-packages/tensorboard/compat/tensorflow_stub/dtypes.py:543: FutureWarning: Passing (type, 1) or '1type' as a synonym of type is deprecated; in a future version of numpy, it will be understood as (type, (1,)) / '(1,)type'.\n",
      "  _np_qint16 = np.dtype([(\"qint16\", np.int16, 1)])\n",
      "/home/sasaki/.local/lib/python3.6/site-packages/tensorboard/compat/tensorflow_stub/dtypes.py:544: FutureWarning: Passing (type, 1) or '1type' as a synonym of type is deprecated; in a future version of numpy, it will be understood as (type, (1,)) / '(1,)type'.\n",
      "  _np_quint16 = np.dtype([(\"quint16\", np.uint16, 1)])\n",
      "/home/sasaki/.local/lib/python3.6/site-packages/tensorboard/compat/tensorflow_stub/dtypes.py:545: FutureWarning: Passing (type, 1) or '1type' as a synonym of type is deprecated; in a future version of numpy, it will be understood as (type, (1,)) / '(1,)type'.\n",
      "  _np_qint32 = np.dtype([(\"qint32\", np.int32, 1)])\n",
      "/home/sasaki/.local/lib/python3.6/site-packages/tensorboard/compat/tensorflow_stub/dtypes.py:550: FutureWarning: Passing (type, 1) or '1type' as a synonym of type is deprecated; in a future version of numpy, it will be understood as (type, (1,)) / '(1,)type'.\n",
      "  np_resource = np.dtype([(\"resource\", np.ubyte, 1)])\n"
     ]
    }
   ],
   "source": [
    "from keras.datasets import imdb\n",
    "\n",
    "(train_data, train_labels), (test_data, test_labels) = imdb.load_data(num_words=5000)"
   ]
  },
  {
   "cell_type": "code",
   "execution_count": 2,
   "metadata": {},
   "outputs": [
    {
     "data": {
      "text/plain": [
       "array([0., 1., 1., ..., 0., 0., 0.], dtype=float32)"
      ]
     },
     "execution_count": 2,
     "metadata": {},
     "output_type": "execute_result"
    }
   ],
   "source": [
    "import numpy as np\n",
    "\n",
    "def vectorize_sequence(sequence, dimension=5000):\n",
    "    results = np.zeros((len(sequence), dimension), dtype=np.float32)\n",
    "    for i, sequence in enumerate(sequence):\n",
    "        results[i, sequence] = 1.\n",
    "    return results\n",
    "\n",
    "x_train = vectorize_sequence(train_data)\n",
    "x_test = vectorize_sequence(test_data)\n",
    "\n",
    "x_train[0]"
   ]
  },
  {
   "cell_type": "code",
   "execution_count": 3,
   "metadata": {},
   "outputs": [
    {
     "data": {
      "text/plain": [
       "array([1., 0., 0., ..., 0., 1., 0.], dtype=float32)"
      ]
     },
     "execution_count": 3,
     "metadata": {},
     "output_type": "execute_result"
    }
   ],
   "source": [
    "y_train = np.asarray(train_labels).astype('float32')\n",
    "y_test = np.asarray(test_labels).astype('float32')\n",
    "\n",
    "y_train"
   ]
  },
  {
   "cell_type": "code",
   "execution_count": 4,
   "metadata": {},
   "outputs": [],
   "source": [
    "from keras import models\n",
    "from keras import layers\n",
    "\n",
    "model = models.Sequential()\n",
    "model.add(layers.Dense(16, activation='relu', input_shape=(5000,)))\n",
    "model.add(layers.Dense(16, activation='relu'))\n",
    "model.add(layers.Dense(1, activation='sigmoid'))"
   ]
  },
  {
   "cell_type": "code",
   "execution_count": 5,
   "metadata": {},
   "outputs": [
    {
     "name": "stdout",
     "output_type": "stream",
     "text": [
      "WARNING:tensorflow:From /home/sasaki/.local/lib/python3.6/site-packages/tensorflow/python/ops/nn_impl.py:180: add_dispatch_support.<locals>.wrapper (from tensorflow.python.ops.array_ops) is deprecated and will be removed in a future version.\n",
      "Instructions for updating:\n",
      "Use tf.where in 2.0, which has the same broadcast rule as np.where\n"
     ]
    }
   ],
   "source": [
    "model.compile(optimizer='rmsprop', loss='binary_crossentropy', metrics=['accuracy'])"
   ]
  },
  {
   "cell_type": "code",
   "execution_count": 6,
   "metadata": {},
   "outputs": [],
   "source": [
    "x_val = x_train[:10000]\n",
    "partial_x_train = x_train[10000:]\n",
    "\n",
    "y_val = y_train[:10000]\n",
    "partial_y_train = y_train[10000:]"
   ]
  },
  {
   "cell_type": "code",
   "execution_count": 7,
   "metadata": {},
   "outputs": [
    {
     "name": "stdout",
     "output_type": "stream",
     "text": [
      "WARNING:tensorflow:From /home/sasaki/.local/lib/python3.6/site-packages/keras/backend/tensorflow_backend.py:422: The name tf.global_variables is deprecated. Please use tf.compat.v1.global_variables instead.\n",
      "\n",
      "Train on 15000 samples, validate on 10000 samples\n",
      "Epoch 1/20\n",
      "15000/15000 [==============================] - 11s 763us/step - loss: 0.4957 - accuracy: 0.7878 - val_loss: 0.3734 - val_accuracy: 0.8660\n",
      "Epoch 2/20\n",
      "15000/15000 [==============================] - 1s 70us/step - loss: 0.3128 - accuracy: 0.8905 - val_loss: 0.3066 - val_accuracy: 0.8830\n",
      "Epoch 3/20\n",
      "15000/15000 [==============================] - 1s 45us/step - loss: 0.2466 - accuracy: 0.9115 - val_loss: 0.3576 - val_accuracy: 0.8494\n",
      "Epoch 4/20\n",
      "15000/15000 [==============================] - 1s 48us/step - loss: 0.2135 - accuracy: 0.9213 - val_loss: 0.2930 - val_accuracy: 0.8818\n",
      "Epoch 5/20\n",
      "15000/15000 [==============================] - 1s 48us/step - loss: 0.1899 - accuracy: 0.9318 - val_loss: 0.2974 - val_accuracy: 0.8791\n",
      "Epoch 6/20\n",
      "15000/15000 [==============================] - 1s 47us/step - loss: 0.1672 - accuracy: 0.9410 - val_loss: 0.2964 - val_accuracy: 0.8809\n",
      "Epoch 7/20\n",
      "15000/15000 [==============================] - 1s 51us/step - loss: 0.1506 - accuracy: 0.9469 - val_loss: 0.3091 - val_accuracy: 0.8789\n",
      "Epoch 8/20\n",
      "15000/15000 [==============================] - 1s 48us/step - loss: 0.1376 - accuracy: 0.9522 - val_loss: 0.3277 - val_accuracy: 0.8755\n",
      "Epoch 9/20\n",
      "15000/15000 [==============================] - 1s 47us/step - loss: 0.1252 - accuracy: 0.9572 - val_loss: 0.3409 - val_accuracy: 0.8722\n",
      "Epoch 10/20\n",
      "15000/15000 [==============================] - 1s 48us/step - loss: 0.1144 - accuracy: 0.9611 - val_loss: 0.3567 - val_accuracy: 0.8690\n",
      "Epoch 11/20\n",
      "15000/15000 [==============================] - 1s 49us/step - loss: 0.1052 - accuracy: 0.9654 - val_loss: 0.3661 - val_accuracy: 0.8693\n",
      "Epoch 12/20\n",
      "15000/15000 [==============================] - 1s 46us/step - loss: 0.0919 - accuracy: 0.9703 - val_loss: 0.3792 - val_accuracy: 0.8684\n",
      "Epoch 13/20\n",
      "15000/15000 [==============================] - 1s 50us/step - loss: 0.0842 - accuracy: 0.9734 - val_loss: 0.4202 - val_accuracy: 0.8635\n",
      "Epoch 14/20\n",
      "15000/15000 [==============================] - 1s 53us/step - loss: 0.0807 - accuracy: 0.9729 - val_loss: 0.4146 - val_accuracy: 0.8684\n",
      "Epoch 15/20\n",
      "15000/15000 [==============================] - 1s 61us/step - loss: 0.0685 - accuracy: 0.9797 - val_loss: 0.4431 - val_accuracy: 0.8630\n",
      "Epoch 16/20\n",
      "15000/15000 [==============================] - 1s 51us/step - loss: 0.0606 - accuracy: 0.9833 - val_loss: 0.5210 - val_accuracy: 0.8486\n",
      "Epoch 17/20\n",
      "15000/15000 [==============================] - 1s 49us/step - loss: 0.0559 - accuracy: 0.9833 - val_loss: 0.4671 - val_accuracy: 0.8636\n",
      "Epoch 18/20\n",
      "15000/15000 [==============================] - 1s 52us/step - loss: 0.0499 - accuracy: 0.9861 - val_loss: 0.4934 - val_accuracy: 0.8624\n",
      "Epoch 19/20\n",
      "15000/15000 [==============================] - 1s 49us/step - loss: 0.0463 - accuracy: 0.9870 - val_loss: 0.5142 - val_accuracy: 0.8629\n",
      "Epoch 20/20\n",
      "15000/15000 [==============================] - 1s 50us/step - loss: 0.0379 - accuracy: 0.9912 - val_loss: 0.5315 - val_accuracy: 0.8615\n"
     ]
    }
   ],
   "source": [
    "history = model.fit(partial_x_train, partial_y_train,\n",
    "                   epochs=20, batch_size=512,\n",
    "                   validation_data=(x_val, y_val))"
   ]
  },
  {
   "cell_type": "code",
   "execution_count": 8,
   "metadata": {},
   "outputs": [],
   "source": [
    "from keras import models\n",
    "from keras import layers\n",
    "\n",
    "model4 = models.Sequential()\n",
    "model4.add(layers.Dense(4, activation='relu', input_shape=(5000,)))\n",
    "model4.add(layers.Dense(4, activation='relu'))\n",
    "model4.add(layers.Dense(1, activation='sigmoid'))"
   ]
  },
  {
   "cell_type": "code",
   "execution_count": 10,
   "metadata": {},
   "outputs": [],
   "source": [
    "model4.compile(optimizer='rmsprop', loss='binary_crossentropy', metrics=['accuracy'])"
   ]
  },
  {
   "cell_type": "code",
   "execution_count": 11,
   "metadata": {},
   "outputs": [
    {
     "name": "stdout",
     "output_type": "stream",
     "text": [
      "Train on 15000 samples, validate on 10000 samples\n",
      "Epoch 1/20\n",
      "15000/15000 [==============================] - 2s 109us/step - loss: 0.6341 - accuracy: 0.7399 - val_loss: 0.5766 - val_accuracy: 0.8191\n",
      "Epoch 2/20\n",
      "15000/15000 [==============================] - 2s 105us/step - loss: 0.5145 - accuracy: 0.8631 - val_loss: 0.4791 - val_accuracy: 0.8584\n",
      "Epoch 3/20\n",
      "15000/15000 [==============================] - 1s 61us/step - loss: 0.4259 - accuracy: 0.8829 - val_loss: 0.4117 - val_accuracy: 0.8640\n",
      "Epoch 4/20\n",
      "15000/15000 [==============================] - 1s 49us/step - loss: 0.3604 - accuracy: 0.8926 - val_loss: 0.3643 - val_accuracy: 0.8726\n",
      "Epoch 5/20\n",
      "15000/15000 [==============================] - 1s 57us/step - loss: 0.3116 - accuracy: 0.9033 - val_loss: 0.3378 - val_accuracy: 0.8732\n",
      "Epoch 6/20\n",
      "15000/15000 [==============================] - 1s 48us/step - loss: 0.2757 - accuracy: 0.9118 - val_loss: 0.3146 - val_accuracy: 0.8808\n",
      "Epoch 7/20\n",
      "15000/15000 [==============================] - 1s 60us/step - loss: 0.2482 - accuracy: 0.9187 - val_loss: 0.2993 - val_accuracy: 0.8825\n",
      "Epoch 8/20\n",
      "15000/15000 [==============================] - 1s 48us/step - loss: 0.2267 - accuracy: 0.9241 - val_loss: 0.2942 - val_accuracy: 0.8822\n",
      "Epoch 9/20\n",
      "15000/15000 [==============================] - 1s 50us/step - loss: 0.2100 - accuracy: 0.9283 - val_loss: 0.2846 - val_accuracy: 0.8847\n",
      "Epoch 10/20\n",
      "15000/15000 [==============================] - 1s 49us/step - loss: 0.1959 - accuracy: 0.9319 - val_loss: 0.2876 - val_accuracy: 0.8835\n",
      "Epoch 11/20\n",
      "15000/15000 [==============================] - 1s 47us/step - loss: 0.1841 - accuracy: 0.9375 - val_loss: 0.2837 - val_accuracy: 0.8838\n",
      "Epoch 12/20\n",
      "15000/15000 [==============================] - 1s 51us/step - loss: 0.1743 - accuracy: 0.9406 - val_loss: 0.2853 - val_accuracy: 0.8837\n",
      "Epoch 13/20\n",
      "15000/15000 [==============================] - 1s 49us/step - loss: 0.1646 - accuracy: 0.9435 - val_loss: 0.2881 - val_accuracy: 0.8842\n",
      "Epoch 14/20\n",
      "15000/15000 [==============================] - 2s 105us/step - loss: 0.1566 - accuracy: 0.9457 - val_loss: 0.2952 - val_accuracy: 0.8800\n",
      "Epoch 15/20\n",
      "15000/15000 [==============================] - 1s 99us/step - loss: 0.1496 - accuracy: 0.9487 - val_loss: 0.2976 - val_accuracy: 0.8806\n",
      "Epoch 16/20\n",
      "15000/15000 [==============================] - 1s 62us/step - loss: 0.1434 - accuracy: 0.9523 - val_loss: 0.3039 - val_accuracy: 0.8793\n",
      "Epoch 17/20\n",
      "15000/15000 [==============================] - 1s 52us/step - loss: 0.1365 - accuracy: 0.9538 - val_loss: 0.3210 - val_accuracy: 0.8774\n",
      "Epoch 18/20\n",
      "15000/15000 [==============================] - 1s 50us/step - loss: 0.1315 - accuracy: 0.9560 - val_loss: 0.3158 - val_accuracy: 0.8777\n",
      "Epoch 19/20\n",
      "15000/15000 [==============================] - 1s 67us/step - loss: 0.1255 - accuracy: 0.9575 - val_loss: 0.3245 - val_accuracy: 0.8775\n",
      "Epoch 20/20\n",
      "15000/15000 [==============================] - 1s 75us/step - loss: 0.1208 - accuracy: 0.9598 - val_loss: 0.3344 - val_accuracy: 0.8764\n"
     ]
    }
   ],
   "source": [
    "history4 = model4.fit(partial_x_train, partial_y_train,\n",
    "                   epochs=20, batch_size=512,\n",
    "                   validation_data=(x_val, y_val))"
   ]
  },
  {
   "cell_type": "code",
   "execution_count": 13,
   "metadata": {},
   "outputs": [
    {
     "data": {
      "image/png": "[encoded data removed]",
      "text/plain": [
       "<matplotlib.figure.Figure at 0x7f0affaf9668>"
      ]
     },
     "metadata": {},
     "output_type": "display_data"
    }
   ],
   "source": [
    "import matplotlib.pyplot as plt\n",
    "\n",
    "val_loss_values = history.history['val_loss']\n",
    "val_loss_values4 = history4.history['val_loss']\n",
    "\n",
    "epochs = range(1, len(val_loss_values)+1)\n",
    "\n",
    "plt.plot(epochs, val_loss_values, '+', label='Original model')\n",
    "plt.plot(epochs, val_loss_values4, 'o', label='Smaller model')\n",
    "plt.title('Smaller model')\n",
    "plt.xlabel('Epochs')\n",
    "plt.ylabel('Validation Loss')\n",
    "plt.legend()\n",
    "plt.show()"
   ]
  },
  {
   "cell_type": "code",
   "execution_count": 14,
   "metadata": {},
   "outputs": [],
   "source": [
    "from keras import models\n",
    "from keras import layers\n",
    "\n",
    "model512 = models.Sequential()\n",
    "model512.add(layers.Dense(512, activation='relu', input_shape=(5000,)))\n",
    "model512.add(layers.Dense(512, activation='relu'))\n",
    "model512.add(layers.Dense(1, activation='sigmoid'))"
   ]
  },
  {
   "cell_type": "code",
   "execution_count": 16,
   "metadata": {},
   "outputs": [],
   "source": [
    "model512.compile(optimizer='rmsprop', loss='binary_crossentropy', metrics=['accuracy'])"
   ]
  },
  {
   "cell_type": "code",
   "execution_count": 17,
   "metadata": {},
   "outputs": [
    {
     "name": "stdout",
     "output_type": "stream",
     "text": [
      "Train on 15000 samples, validate on 10000 samples\n",
      "Epoch 1/20\n",
      "15000/15000 [==============================] - 19s 1ms/step - loss: 0.5652 - accuracy: 0.7388 - val_loss: 0.3294 - val_accuracy: 0.8754\n",
      "Epoch 2/20\n",
      "15000/15000 [==============================] - 7s 458us/step - loss: 0.2824 - accuracy: 0.8878 - val_loss: 0.2787 - val_accuracy: 0.8834\n",
      "Epoch 3/20\n",
      "15000/15000 [==============================] - 6s 374us/step - loss: 0.1945 - accuracy: 0.9223 - val_loss: 0.3074 - val_accuracy: 0.8772\n",
      "Epoch 4/20\n",
      "15000/15000 [==============================] - 6s 369us/step - loss: 0.1089 - accuracy: 0.9617 - val_loss: 0.2978 - val_accuracy: 0.8832\n",
      "Epoch 5/20\n",
      "15000/15000 [==============================] - 7s 458us/step - loss: 0.0840 - accuracy: 0.9756 - val_loss: 0.3455 - val_accuracy: 0.8849\n",
      "Epoch 6/20\n",
      "15000/15000 [==============================] - 6s 407us/step - loss: 0.0054 - accuracy: 0.9993 - val_loss: 0.4613 - val_accuracy: 0.8837\n",
      "Epoch 7/20\n",
      "15000/15000 [==============================] - 7s 482us/step - loss: 8.0553e-04 - accuracy: 0.9999 - val_loss: 0.5804 - val_accuracy: 0.8820\n",
      "Epoch 8/20\n",
      "15000/15000 [==============================] - 6s 401us/step - loss: 9.0466e-05 - accuracy: 1.0000 - val_loss: 0.6855 - val_accuracy: 0.8827\n",
      "Epoch 9/20\n",
      "15000/15000 [==============================] - 6s 400us/step - loss: 1.5239e-05 - accuracy: 1.0000 - val_loss: 0.7808 - val_accuracy: 0.8817\n",
      "Epoch 10/20\n",
      "15000/15000 [==============================] - 6s 400us/step - loss: 3.2934e-06 - accuracy: 1.0000 - val_loss: 0.8633 - val_accuracy: 0.8817\n",
      "Epoch 11/20\n",
      "15000/15000 [==============================] - 6s 374us/step - loss: 9.0842e-07 - accuracy: 1.0000 - val_loss: 0.9439 - val_accuracy: 0.8813\n",
      "Epoch 12/20\n",
      "15000/15000 [==============================] - 6s 403us/step - loss: 2.5637e-07 - accuracy: 1.0000 - val_loss: 1.0116 - val_accuracy: 0.8811\n",
      "Epoch 13/20\n",
      "15000/15000 [==============================] - 6s 388us/step - loss: 9.1320e-08 - accuracy: 1.0000 - val_loss: 1.0685 - val_accuracy: 0.8821\n",
      "Epoch 14/20\n",
      "15000/15000 [==============================] - 6s 376us/step - loss: 4.3686e-08 - accuracy: 1.0000 - val_loss: 1.1070 - val_accuracy: 0.8815\n",
      "Epoch 15/20\n",
      "15000/15000 [==============================] - 6s 373us/step - loss: 2.6600e-08 - accuracy: 1.0000 - val_loss: 1.1302 - val_accuracy: 0.8818\n",
      "Epoch 16/20\n",
      "15000/15000 [==============================] - 6s 373us/step - loss: 1.8789e-08 - accuracy: 1.0000 - val_loss: 1.1498 - val_accuracy: 0.8818\n",
      "Epoch 17/20\n",
      "15000/15000 [==============================] - 6s 397us/step - loss: 1.4528e-08 - accuracy: 1.0000 - val_loss: 1.1648 - val_accuracy: 0.8816\n",
      "Epoch 18/20\n",
      "15000/15000 [==============================] - 6s 371us/step - loss: 1.1805e-08 - accuracy: 1.0000 - val_loss: 1.1757 - val_accuracy: 0.8821\n",
      "Epoch 19/20\n",
      "15000/15000 [==============================] - 6s 372us/step - loss: 9.9853e-09 - accuracy: 1.0000 - val_loss: 1.1843 - val_accuracy: 0.8820\n",
      "Epoch 20/20\n",
      "15000/15000 [==============================] - 6s 373us/step - loss: 8.6639e-09 - accuracy: 1.0000 - val_loss: 1.1919 - val_accuracy: 0.8816\n"
     ]
    }
   ],
   "source": [
    "history512 = model512.fit(partial_x_train, partial_y_train,\n",
    "                   epochs=20, batch_size=512,\n",
    "                   validation_data=(x_val, y_val))"
   ]
  },
  {
   "cell_type": "code",
   "execution_count": 18,
   "metadata": {},
   "outputs": [
    {
     "data": {
      "image/png": "[encoded data removed]",
      "text/plain": [
       "<matplotlib.figure.Figure at 0x7f0aff7f3eb8>"
      ]
     },
     "metadata": {},
     "output_type": "display_data"
    }
   ],
   "source": [
    "import matplotlib.pyplot as plt\n",
    "\n",
    "val_loss_values = history.history['val_loss']\n",
    "val_loss_values512 = history512.history['val_loss']\n",
    "\n",
    "epochs = range(1, len(val_loss_values)+1)\n",
    "\n",
    "plt.plot(epochs, val_loss_values, '+', label='Original model')\n",
    "plt.plot(epochs, val_loss_values512, 'o', label='Bigger model')\n",
    "plt.title('Bigger model')\n",
    "plt.xlabel('Epochs')\n",
    "plt.ylabel('Validation Loss')\n",
    "plt.legend()\n",
    "plt.show()"
   ]
  },
  {
   "cell_type": "code",
   "execution_count": 19,
   "metadata": {},
   "outputs": [
    {
     "data": {
      "image/png": "[encoded data removed]",
      "text/plain": [
       "<matplotlib.figure.Figure at 0x7f0aff6925f8>"
      ]
     },
     "metadata": {},
     "output_type": "display_data"
    }
   ],
   "source": [
    "import matplotlib.pyplot as plt\n",
    "\n",
    "loss_values = history.history['loss']\n",
    "loss_values512 = history512.history['loss']\n",
    "\n",
    "epochs = range(1, len(loss_values)+1)\n",
    "\n",
    "plt.plot(epochs, loss_values, '+', label='Original model')\n",
    "plt.plot(epochs, loss_values512, 'o', label='Bigger model')\n",
    "plt.title('Training Loss for model size')\n",
    "plt.xlabel('Epochs')\n",
    "plt.ylabel('Training Loss')\n",
    "plt.legend()\n",
    "plt.show()"
   ]
  },
  {
   "cell_type": "code",
   "execution_count": 20,
   "metadata": {},
   "outputs": [],
   "source": [
    "from keras import models\n",
    "from keras import layers\n",
    "from keras import regularizers\n",
    "\n",
    "model_l2 = models.Sequential()\n",
    "model_l2.add(layers.Dense(16, kernel_regularizer=regularizers.l2(0.001),\n",
    "                          activation='relu', input_shape=(5000,)))\n",
    "model_l2.add(layers.Dense(16, kernel_regularizer=regularizers.l2(0.001),\n",
    "                          activation='relu'))\n",
    "model_l2.add(layers.Dense(1, activation='sigmoid'))"
   ]
  },
  {
   "cell_type": "code",
   "execution_count": 21,
   "metadata": {},
   "outputs": [],
   "source": [
    "model_l2.compile(optimizer='rmsprop', loss='binary_crossentropy', metrics=['accuracy'])"
   ]
  },
  {
   "cell_type": "code",
   "execution_count": 22,
   "metadata": {},
   "outputs": [
    {
     "name": "stdout",
     "output_type": "stream",
     "text": [
      "Train on 15000 samples, validate on 10000 samples\n",
      "Epoch 1/20\n",
      "15000/15000 [==============================] - 13s 878us/step - loss: 0.5744 - accuracy: 0.7766 - val_loss: 0.4492 - val_accuracy: 0.8638\n",
      "Epoch 2/20\n",
      "15000/15000 [==============================] - 2s 154us/step - loss: 0.3834 - accuracy: 0.8868 - val_loss: 0.3832 - val_accuracy: 0.8679\n",
      "Epoch 3/20\n",
      "15000/15000 [==============================] - 1s 91us/step - loss: 0.3144 - accuracy: 0.9043 - val_loss: 0.3416 - val_accuracy: 0.8859\n",
      "Epoch 4/20\n",
      "15000/15000 [==============================] - 1s 82us/step - loss: 0.2796 - accuracy: 0.9154 - val_loss: 0.3393 - val_accuracy: 0.8810\n",
      "Epoch 5/20\n",
      "15000/15000 [==============================] - 1s 90us/step - loss: 0.2628 - accuracy: 0.9216 - val_loss: 0.3328 - val_accuracy: 0.8844\n",
      "Epoch 6/20\n",
      "15000/15000 [==============================] - 1s 56us/step - loss: 0.2468 - accuracy: 0.9287 - val_loss: 0.3502 - val_accuracy: 0.8761\n",
      "Epoch 7/20\n",
      "15000/15000 [==============================] - 1s 57us/step - loss: 0.2383 - accuracy: 0.9325 - val_loss: 0.3480 - val_accuracy: 0.8819\n",
      "Epoch 8/20\n",
      "15000/15000 [==============================] - 1s 51us/step - loss: 0.2293 - accuracy: 0.9382 - val_loss: 0.3479 - val_accuracy: 0.8802\n",
      "Epoch 9/20\n",
      "15000/15000 [==============================] - 1s 55us/step - loss: 0.2213 - accuracy: 0.9397 - val_loss: 0.3547 - val_accuracy: 0.8791\n",
      "Epoch 10/20\n",
      "15000/15000 [==============================] - 1s 52us/step - loss: 0.2117 - accuracy: 0.9433 - val_loss: 0.3663 - val_accuracy: 0.8776\n",
      "Epoch 11/20\n",
      "15000/15000 [==============================] - 1s 52us/step - loss: 0.2099 - accuracy: 0.9438 - val_loss: 0.3700 - val_accuracy: 0.8775\n",
      "Epoch 12/20\n",
      "15000/15000 [==============================] - 1s 52us/step - loss: 0.2073 - accuracy: 0.9449 - val_loss: 0.3739 - val_accuracy: 0.8768\n",
      "Epoch 13/20\n",
      "15000/15000 [==============================] - 1s 54us/step - loss: 0.2007 - accuracy: 0.9497 - val_loss: 0.3942 - val_accuracy: 0.8731\n",
      "Epoch 14/20\n",
      "15000/15000 [==============================] - 1s 62us/step - loss: 0.1977 - accuracy: 0.9497 - val_loss: 0.4315 - val_accuracy: 0.8571\n",
      "Epoch 15/20\n",
      "15000/15000 [==============================] - 1s 55us/step - loss: 0.1957 - accuracy: 0.9508 - val_loss: 0.3953 - val_accuracy: 0.8722\n",
      "Epoch 16/20\n",
      "15000/15000 [==============================] - 1s 55us/step - loss: 0.1937 - accuracy: 0.9497 - val_loss: 0.4005 - val_accuracy: 0.8710\n",
      "Epoch 17/20\n",
      "15000/15000 [==============================] - 1s 52us/step - loss: 0.1874 - accuracy: 0.9535 - val_loss: 0.4059 - val_accuracy: 0.8707\n",
      "Epoch 18/20\n",
      "15000/15000 [==============================] - 1s 52us/step - loss: 0.1840 - accuracy: 0.9551 - val_loss: 0.4451 - val_accuracy: 0.8604\n",
      "Epoch 19/20\n",
      "15000/15000 [==============================] - 1s 84us/step - loss: 0.1822 - accuracy: 0.9561 - val_loss: 0.4405 - val_accuracy: 0.8662\n",
      "Epoch 20/20\n",
      "15000/15000 [==============================] - 1s 60us/step - loss: 0.1797 - accuracy: 0.9582 - val_loss: 0.4228 - val_accuracy: 0.8675\n"
     ]
    }
   ],
   "source": [
    "history_l2 = model_l2.fit(partial_x_train, partial_y_train,\n",
    "                   epochs=20, batch_size=512,\n",
    "                   validation_data=(x_val, y_val))"
   ]
  },
  {
   "cell_type": "code",
   "execution_count": 23,
   "metadata": {},
   "outputs": [
    {
     "data": {
      "image/png": "[encoded data removed]",
      "text/plain": [
       "<matplotlib.figure.Figure at 0x7f0aff66d080>"
      ]
     },
     "metadata": {},
     "output_type": "display_data"
    }
   ],
   "source": [
    "import matplotlib.pyplot as plt\n",
    "\n",
    "val_loss_values = history.history['val_loss']\n",
    "val_loss_values_l2 = history_l2.history['val_loss']\n",
    "\n",
    "epochs = range(1, len(val_loss_values)+1)\n",
    "\n",
    "plt.plot(epochs, val_loss_values, '+', label='Original model')\n",
    "plt.plot(epochs, val_loss_values_l2, 'o', label='L2-regularized  model')\n",
    "plt.title('L2 regularize')\n",
    "plt.xlabel('Epochs')\n",
    "plt.ylabel('Validation Loss')\n",
    "plt.legend()\n",
    "plt.show()"
   ]
  },
  {
   "cell_type": "code",
   "execution_count": 24,
   "metadata": {},
   "outputs": [],
   "source": [
    "from keras import models\n",
    "from keras import layers\n",
    "from keras import regularizers\n",
    "\n",
    "model_l1 = models.Sequential()\n",
    "model_l1.add(layers.Dense(16, kernel_regularizer=regularizers.l1(0.001),\n",
    "                          activation='relu', input_shape=(5000,)))\n",
    "model_l1.add(layers.Dense(16, kernel_regularizer=regularizers.l1(0.001),\n",
    "                          activation='relu'))\n",
    "model_l1.add(layers.Dense(1, activation='sigmoid'))"
   ]
  },
  {
   "cell_type": "code",
   "execution_count": 25,
   "metadata": {},
   "outputs": [],
   "source": [
    "model_l1.compile(optimizer='rmsprop', loss='binary_crossentropy', metrics=['accuracy'])"
   ]
  },
  {
   "cell_type": "code",
   "execution_count": 26,
   "metadata": {},
   "outputs": [
    {
     "name": "stdout",
     "output_type": "stream",
     "text": [
      "Train on 15000 samples, validate on 10000 samples\n",
      "Epoch 1/20\n",
      "15000/15000 [==============================] - 6s 400us/step - loss: 1.0799 - accuracy: 0.7313 - val_loss: 0.6840 - val_accuracy: 0.8329\n",
      "Epoch 2/20\n",
      "15000/15000 [==============================] - 1s 84us/step - loss: 0.6367 - accuracy: 0.8379 - val_loss: 0.6189 - val_accuracy: 0.8293\n",
      "Epoch 3/20\n",
      "15000/15000 [==============================] - 1s 52us/step - loss: 0.5826 - accuracy: 0.8485 - val_loss: 0.5660 - val_accuracy: 0.8565\n",
      "Epoch 4/20\n",
      "15000/15000 [==============================] - 1s 48us/step - loss: 0.5479 - accuracy: 0.8582 - val_loss: 0.5469 - val_accuracy: 0.8604\n",
      "Epoch 5/20\n",
      "15000/15000 [==============================] - 1s 54us/step - loss: 0.5268 - accuracy: 0.8662 - val_loss: 0.5329 - val_accuracy: 0.8643\n",
      "Epoch 6/20\n",
      "15000/15000 [==============================] - 1s 48us/step - loss: 0.5162 - accuracy: 0.8654 - val_loss: 0.5189 - val_accuracy: 0.8650\n",
      "Epoch 7/20\n",
      "15000/15000 [==============================] - 1s 50us/step - loss: 0.5063 - accuracy: 0.8675 - val_loss: 0.5282 - val_accuracy: 0.8593\n",
      "Epoch 8/20\n",
      "15000/15000 [==============================] - 1s 49us/step - loss: 0.4903 - accuracy: 0.8747 - val_loss: 0.5320 - val_accuracy: 0.8533\n",
      "Epoch 9/20\n",
      "15000/15000 [==============================] - 1s 64us/step - loss: 0.4916 - accuracy: 0.8685 - val_loss: 0.5486 - val_accuracy: 0.8417\n",
      "Epoch 10/20\n",
      "15000/15000 [==============================] - 1s 73us/step - loss: 0.4819 - accuracy: 0.8749 - val_loss: 0.5011 - val_accuracy: 0.8640\n",
      "Epoch 11/20\n",
      "15000/15000 [==============================] - 1s 66us/step - loss: 0.4749 - accuracy: 0.8744 - val_loss: 0.4916 - val_accuracy: 0.8699\n",
      "Epoch 12/20\n",
      "15000/15000 [==============================] - 1s 74us/step - loss: 0.4711 - accuracy: 0.8784 - val_loss: 0.5079 - val_accuracy: 0.8585\n",
      "Epoch 13/20\n",
      "15000/15000 [==============================] - 1s 54us/step - loss: 0.4563 - accuracy: 0.8833 - val_loss: 0.4957 - val_accuracy: 0.8649\n",
      "Epoch 14/20\n",
      "15000/15000 [==============================] - 1s 61us/step - loss: 0.4594 - accuracy: 0.8795 - val_loss: 0.5267 - val_accuracy: 0.8439\n",
      "Epoch 15/20\n",
      "15000/15000 [==============================] - 1s 65us/step - loss: 0.4498 - accuracy: 0.8859 - val_loss: 0.4757 - val_accuracy: 0.8753\n",
      "Epoch 16/20\n",
      "15000/15000 [==============================] - 1s 62us/step - loss: 0.4556 - accuracy: 0.8799 - val_loss: 0.4767 - val_accuracy: 0.8736\n",
      "Epoch 17/20\n",
      "15000/15000 [==============================] - 1s 78us/step - loss: 0.4395 - accuracy: 0.8893 - val_loss: 0.4705 - val_accuracy: 0.8777\n",
      "Epoch 18/20\n",
      "15000/15000 [==============================] - 1s 64us/step - loss: 0.4444 - accuracy: 0.8868 - val_loss: 0.4827 - val_accuracy: 0.8718\n",
      "Epoch 19/20\n",
      "15000/15000 [==============================] - 1s 66us/step - loss: 0.4351 - accuracy: 0.8886 - val_loss: 0.5030 - val_accuracy: 0.8553\n",
      "Epoch 20/20\n",
      "15000/15000 [==============================] - 1s 69us/step - loss: 0.4309 - accuracy: 0.8890 - val_loss: 0.4825 - val_accuracy: 0.8697\n"
     ]
    }
   ],
   "source": [
    "history_l1 = model_l1.fit(partial_x_train, partial_y_train,\n",
    "                   epochs=20, batch_size=512,\n",
    "                   validation_data=(x_val, y_val))"
   ]
  },
  {
   "cell_type": "code",
   "execution_count": 27,
   "metadata": {},
   "outputs": [
    {
     "data": {
      "image/png": "[encoded data removed]",
      "text/plain": [
       "<matplotlib.figure.Figure at 0x7f0aff163898>"
      ]
     },
     "metadata": {},
     "output_type": "display_data"
    }
   ],
   "source": [
    "import matplotlib.pyplot as plt\n",
    "\n",
    "val_loss_values = history.history['val_loss']\n",
    "val_loss_values_l1 = history_l1.history['val_loss']\n",
    "\n",
    "epochs = range(1, len(val_loss_values)+1)\n",
    "\n",
    "plt.plot(epochs, val_loss_values, '+', label='Original model')\n",
    "plt.plot(epochs, val_loss_values_l1, 'o', label='L1-regularized model')\n",
    "plt.title('L1 regularize')\n",
    "plt.xlabel('Epochs')\n",
    "plt.ylabel('Validation Loss')\n",
    "plt.legend()\n",
    "plt.show()"
   ]
  },
  {
   "cell_type": "code",
   "execution_count": 28,
   "metadata": {},
   "outputs": [],
   "source": [
    "from keras import models\n",
    "from keras import layers\n",
    "\n",
    "model_do = models.Sequential()\n",
    "model_do.add(layers.Dense(16, activation='relu', input_shape=(5000,)))\n",
    "model_do.add(layers.Dropout(0.5))\n",
    "model_do.add(layers.Dense(16, activation='relu'))\n",
    "model_do.add(layers.Dropout(0.5))\n",
    "model_do.add(layers.Dense(1, activation='sigmoid'))"
   ]
  },
  {
   "cell_type": "code",
   "execution_count": 29,
   "metadata": {},
   "outputs": [],
   "source": [
    "model_do.compile(optimizer='rmsprop', loss='binary_crossentropy', metrics=['accuracy'])"
   ]
  },
  {
   "cell_type": "code",
   "execution_count": 30,
   "metadata": {},
   "outputs": [
    {
     "name": "stdout",
     "output_type": "stream",
     "text": [
      "Train on 15000 samples, validate on 10000 samples\n",
      "Epoch 1/20\n",
      "15000/15000 [==============================] - 15s 1ms/step - loss: 0.6217 - accuracy: 0.6523 - val_loss: 0.5377 - val_accuracy: 0.7852\n",
      "Epoch 2/20\n",
      "15000/15000 [==============================] - 3s 219us/step - loss: 0.5098 - accuracy: 0.7712 - val_loss: 0.4212 - val_accuracy: 0.8637\n",
      "Epoch 3/20\n",
      "15000/15000 [==============================] - 1s 57us/step - loss: 0.4360 - accuracy: 0.8207 - val_loss: 0.3599 - val_accuracy: 0.8769\n",
      "Epoch 4/20\n",
      "15000/15000 [==============================] - 1s 58us/step - loss: 0.3791 - accuracy: 0.8545 - val_loss: 0.3120 - val_accuracy: 0.8826\n",
      "Epoch 5/20\n",
      "15000/15000 [==============================] - 1s 82us/step - loss: 0.3334 - accuracy: 0.8760 - val_loss: 0.2955 - val_accuracy: 0.8829\n",
      "Epoch 6/20\n",
      "15000/15000 [==============================] - 1s 54us/step - loss: 0.3027 - accuracy: 0.8946 - val_loss: 0.2831 - val_accuracy: 0.8862\n",
      "Epoch 7/20\n",
      "15000/15000 [==============================] - 1s 54us/step - loss: 0.2798 - accuracy: 0.9037 - val_loss: 0.2998 - val_accuracy: 0.8820\n",
      "Epoch 8/20\n",
      "15000/15000 [==============================] - 1s 51us/step - loss: 0.2542 - accuracy: 0.9152 - val_loss: 0.2905 - val_accuracy: 0.8856\n",
      "Epoch 9/20\n",
      "15000/15000 [==============================] - 1s 82us/step - loss: 0.2316 - accuracy: 0.9245 - val_loss: 0.2926 - val_accuracy: 0.8856\n",
      "Epoch 10/20\n",
      "15000/15000 [==============================] - 1s 58us/step - loss: 0.2155 - accuracy: 0.9279 - val_loss: 0.3044 - val_accuracy: 0.8855\n",
      "Epoch 11/20\n",
      "15000/15000 [==============================] - 1s 58us/step - loss: 0.2027 - accuracy: 0.9329 - val_loss: 0.3119 - val_accuracy: 0.8841\n",
      "Epoch 12/20\n",
      "15000/15000 [==============================] - 1s 69us/step - loss: 0.1870 - accuracy: 0.9407 - val_loss: 0.3368 - val_accuracy: 0.8828\n",
      "Epoch 13/20\n",
      "15000/15000 [==============================] - 1s 52us/step - loss: 0.1737 - accuracy: 0.9414 - val_loss: 0.3447 - val_accuracy: 0.8814\n",
      "Epoch 14/20\n",
      "15000/15000 [==============================] - 1s 53us/step - loss: 0.1630 - accuracy: 0.9465 - val_loss: 0.3557 - val_accuracy: 0.8789\n",
      "Epoch 15/20\n",
      "15000/15000 [==============================] - ETA: 0s - loss: 0.1509 - accuracy: 0.95 - 1s 52us/step - loss: 0.1508 - accuracy: 0.9501 - val_loss: 0.3844 - val_accuracy: 0.8728\n",
      "Epoch 16/20\n",
      "15000/15000 [==============================] - 1s 54us/step - loss: 0.1396 - accuracy: 0.9515 - val_loss: 0.4050 - val_accuracy: 0.8796\n",
      "Epoch 17/20\n",
      "15000/15000 [==============================] - 1s 53us/step - loss: 0.1284 - accuracy: 0.9601 - val_loss: 0.4217 - val_accuracy: 0.8786\n",
      "Epoch 18/20\n",
      "15000/15000 [==============================] - 1s 53us/step - loss: 0.1247 - accuracy: 0.9597 - val_loss: 0.4347 - val_accuracy: 0.8751\n",
      "Epoch 19/20\n",
      "15000/15000 [==============================] - 1s 49us/step - loss: 0.1202 - accuracy: 0.9609 - val_loss: 0.4628 - val_accuracy: 0.8772\n",
      "Epoch 20/20\n",
      "15000/15000 [==============================] - 1s 85us/step - loss: 0.1211 - accuracy: 0.9617 - val_loss: 0.4780 - val_accuracy: 0.8754\n"
     ]
    }
   ],
   "source": [
    "history_do = model_do.fit(partial_x_train, partial_y_train,\n",
    "                   epochs=20, batch_size=512,\n",
    "                   validation_data=(x_val, y_val))"
   ]
  },
  {
   "cell_type": "code",
   "execution_count": 31,
   "metadata": {},
   "outputs": [
    {
     "data": {
      "image/png": "[encoded data removed]",
      "text/plain": [
       "<matplotlib.figure.Figure at 0x7f0aff972ac8>"
      ]
     },
     "metadata": {},
     "output_type": "display_data"
    }
   ],
   "source": [
    "import matplotlib.pyplot as plt\n",
    "\n",
    "val_loss_values = history.history['val_loss']\n",
    "val_loss_values_do = history_do.history['val_loss']\n",
    "\n",
    "epochs = range(1, len(val_loss_values)+1)\n",
    "\n",
    "plt.plot(epochs, val_loss_values, '+', label='Original model')\n",
    "plt.plot(epochs, val_loss_values_do, 'o', label='Dropout-regularized model')\n",
    "plt.title('Dropout regularize')\n",
    "plt.xlabel('Epochs')\n",
    "plt.ylabel('Validation Loss')\n",
    "plt.legend()\n",
    "plt.show()"
   ]
  },
  {
   "cell_type": "code",
   "execution_count": null,
   "metadata": {},
   "outputs": [],
   "source": []
  }
 ],
 "metadata": {
  "kernelspec": {
   "display_name": "Python 3",
   "language": "python",
   "name": "python3"
  },
  "language_info": {
   "codemirror_mode": {
    "name": "ipython",
    "version": 3
   },
   "file_extension": ".py",
   "mimetype": "text/x-python",
   "name": "python",
   "nbconvert_exporter": "python",
   "pygments_lexer": "ipython3",
   "version": "3.6.9"
  }
 },
 "nbformat": 4,
 "nbformat_minor": 2
}
