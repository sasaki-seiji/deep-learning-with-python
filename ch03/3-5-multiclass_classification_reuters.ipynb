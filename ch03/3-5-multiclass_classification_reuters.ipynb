{
 "cells": [
  {
   "cell_type": "code",
   "execution_count": 1,
   "metadata": {},
   "outputs": [
    {
     "name": "stderr",
     "output_type": "stream",
     "text": [
      "Using TensorFlow backend.\n",
      "/home/sasaki/.local/lib/python3.6/site-packages/tensorflow/python/framework/dtypes.py:516: FutureWarning: Passing (type, 1) or '1type' as a synonym of type is deprecated; in a future version of numpy, it will be understood as (type, (1,)) / '(1,)type'.\n",
      "  _np_qint8 = np.dtype([(\"qint8\", np.int8, 1)])\n",
      "/home/sasaki/.local/lib/python3.6/site-packages/tensorflow/python/framework/dtypes.py:517: FutureWarning: Passing (type, 1) or '1type' as a synonym of type is deprecated; in a future version of numpy, it will be understood as (type, (1,)) / '(1,)type'.\n",
      "  _np_quint8 = np.dtype([(\"quint8\", np.uint8, 1)])\n",
      "/home/sasaki/.local/lib/python3.6/site-packages/tensorflow/python/framework/dtypes.py:518: FutureWarning: Passing (type, 1) or '1type' as a synonym of type is deprecated; in a future version of numpy, it will be understood as (type, (1,)) / '(1,)type'.\n",
      "  _np_qint16 = np.dtype([(\"qint16\", np.int16, 1)])\n",
      "/home/sasaki/.local/lib/python3.6/site-packages/tensorflow/python/framework/dtypes.py:519: FutureWarning: Passing (type, 1) or '1type' as a synonym of type is deprecated; in a future version of numpy, it will be understood as (type, (1,)) / '(1,)type'.\n",
      "  _np_quint16 = np.dtype([(\"quint16\", np.uint16, 1)])\n",
      "/home/sasaki/.local/lib/python3.6/site-packages/tensorflow/python/framework/dtypes.py:520: FutureWarning: Passing (type, 1) or '1type' as a synonym of type is deprecated; in a future version of numpy, it will be understood as (type, (1,)) / '(1,)type'.\n",
      "  _np_qint32 = np.dtype([(\"qint32\", np.int32, 1)])\n",
      "/home/sasaki/.local/lib/python3.6/site-packages/tensorflow/python/framework/dtypes.py:525: FutureWarning: Passing (type, 1) or '1type' as a synonym of type is deprecated; in a future version of numpy, it will be understood as (type, (1,)) / '(1,)type'.\n",
      "  np_resource = np.dtype([(\"resource\", np.ubyte, 1)])\n",
      "/home/sasaki/.local/lib/python3.6/site-packages/tensorboard/compat/tensorflow_stub/dtypes.py:541: FutureWarning: Passing (type, 1) or '1type' as a synonym of type is deprecated; in a future version of numpy, it will be understood as (type, (1,)) / '(1,)type'.\n",
      "  _np_qint8 = np.dtype([(\"qint8\", np.int8, 1)])\n",
      "/home/sasaki/.local/lib/python3.6/site-packages/tensorboard/compat/tensorflow_stub/dtypes.py:542: FutureWarning: Passing (type, 1) or '1type' as a synonym of type is deprecated; in a future version of numpy, it will be understood as (type, (1,)) / '(1,)type'.\n",
      "  _np_quint8 = np.dtype([(\"quint8\", np.uint8, 1)])\n",
      "/home/sasaki/.local/lib/python3.6/site-packages/tensorboard/compat/tensorflow_stub/dtypes.py:543: FutureWarning: Passing (type, 1) or '1type' as a synonym of type is deprecated; in a future version of numpy, it will be understood as (type, (1,)) / '(1,)type'.\n",
      "  _np_qint16 = np.dtype([(\"qint16\", np.int16, 1)])\n",
      "/home/sasaki/.local/lib/python3.6/site-packages/tensorboard/compat/tensorflow_stub/dtypes.py:544: FutureWarning: Passing (type, 1) or '1type' as a synonym of type is deprecated; in a future version of numpy, it will be understood as (type, (1,)) / '(1,)type'.\n",
      "  _np_quint16 = np.dtype([(\"quint16\", np.uint16, 1)])\n",
      "/home/sasaki/.local/lib/python3.6/site-packages/tensorboard/compat/tensorflow_stub/dtypes.py:545: FutureWarning: Passing (type, 1) or '1type' as a synonym of type is deprecated; in a future version of numpy, it will be understood as (type, (1,)) / '(1,)type'.\n",
      "  _np_qint32 = np.dtype([(\"qint32\", np.int32, 1)])\n",
      "/home/sasaki/.local/lib/python3.6/site-packages/tensorboard/compat/tensorflow_stub/dtypes.py:550: FutureWarning: Passing (type, 1) or '1type' as a synonym of type is deprecated; in a future version of numpy, it will be understood as (type, (1,)) / '(1,)type'.\n",
      "  np_resource = np.dtype([(\"resource\", np.ubyte, 1)])\n"
     ]
    },
    {
     "name": "stdout",
     "output_type": "stream",
     "text": [
      "Downloading data from https://s3.amazonaws.com/text-datasets/reuters.npz\n",
      "2113536/2110848 [==============================] - 8s 4us/step\n"
     ]
    }
   ],
   "source": [
    "from keras.datasets import reuters\n",
    "\n",
    "(train_data, train_labels), (test_data, test_labels) = \\\n",
    "    reuters.load_data(num_words=10000)"
   ]
  },
  {
   "cell_type": "code",
   "execution_count": 2,
   "metadata": {},
   "outputs": [
    {
     "data": {
      "text/plain": [
       "8982"
      ]
     },
     "execution_count": 2,
     "metadata": {},
     "output_type": "execute_result"
    }
   ],
   "source": [
    "len(train_data)"
   ]
  },
  {
   "cell_type": "code",
   "execution_count": 3,
   "metadata": {},
   "outputs": [
    {
     "data": {
      "text/plain": [
       "2246"
      ]
     },
     "execution_count": 3,
     "metadata": {},
     "output_type": "execute_result"
    }
   ],
   "source": [
    "len(test_data)"
   ]
  },
  {
   "cell_type": "code",
   "execution_count": 4,
   "metadata": {},
   "outputs": [
    {
     "data": {
      "text/plain": [
       "[1,\n",
       " 245,\n",
       " 273,\n",
       " 207,\n",
       " 156,\n",
       " 53,\n",
       " 74,\n",
       " 160,\n",
       " 26,\n",
       " 14,\n",
       " 46,\n",
       " 296,\n",
       " 26,\n",
       " 39,\n",
       " 74,\n",
       " 2979,\n",
       " 3554,\n",
       " 14,\n",
       " 46,\n",
       " 4689,\n",
       " 4329,\n",
       " 86,\n",
       " 61,\n",
       " 3499,\n",
       " 4795,\n",
       " 14,\n",
       " 61,\n",
       " 451,\n",
       " 4329,\n",
       " 17,\n",
       " 12]"
      ]
     },
     "execution_count": 4,
     "metadata": {},
     "output_type": "execute_result"
    }
   ],
   "source": [
    "train_data[10]"
   ]
  },
  {
   "cell_type": "code",
   "execution_count": 7,
   "metadata": {},
   "outputs": [
    {
     "data": {
      "text/plain": [
       "'? period ended december 31 shr profit 11 cts vs loss 24 cts net profit 224 271 vs loss 511 349 revs 7 258 688 vs 7 200 349 reuter 3'"
      ]
     },
     "execution_count": 7,
     "metadata": {},
     "output_type": "execute_result"
    }
   ],
   "source": [
    "word_index = reuters.get_word_index()\n",
    "reverse_word_index = \\\n",
    "    dict([(value, key) for (key, value) in word_index.items()])\n",
    "    \n",
    "decorded_newswire = ' '.join(\n",
    "    [reverse_word_index.get(i-3, '?') for i in train_data[10]])\n",
    "\n",
    "decorded_newswire"
   ]
  },
  {
   "cell_type": "code",
   "execution_count": 8,
   "metadata": {},
   "outputs": [
    {
     "data": {
      "text/plain": [
       "3"
      ]
     },
     "execution_count": 8,
     "metadata": {},
     "output_type": "execute_result"
    }
   ],
   "source": [
    "train_labels[10]"
   ]
  },
  {
   "cell_type": "code",
   "execution_count": 9,
   "metadata": {},
   "outputs": [
    {
     "name": "stdout",
     "output_type": "stream",
     "text": [
      "x_train.shape: (8982, 10000)\n",
      "x_test.shape: (2246, 10000)\n"
     ]
    }
   ],
   "source": [
    "import numpy as np\n",
    "\n",
    "def vectorize_sequences(sequences, dimension=10000):\n",
    "    results = np.zeros((len(sequences), dimension))\n",
    "    for i, sequence in enumerate(sequences):\n",
    "        results[i, sequence] = 1\n",
    "    return results\n",
    "\n",
    "x_train = vectorize_sequences(train_data)\n",
    "x_test = vectorize_sequences(test_data)\n",
    "\n",
    "print('x_train.shape:', x_train.shape)\n",
    "print('x_test.shape:', x_test.shape)"
   ]
  },
  {
   "cell_type": "code",
   "execution_count": 13,
   "metadata": {},
   "outputs": [
    {
     "name": "stdout",
     "output_type": "stream",
     "text": [
      "(8982, 46) (2246, 46)\n"
     ]
    }
   ],
   "source": [
    "def to_one_hot(labels, dimension=46):\n",
    "    results = np.zeros((len(labels), dimension))\n",
    "    for i, label in enumerate(labels):\n",
    "        results[i, label] = 1.\n",
    "    return results\n",
    "\n",
    "one_hot_train_labels = to_one_hot(train_labels)\n",
    "one_hot_test_labels = to_one_hot(test_labels)\n",
    "\n",
    "print(one_hot_train_labels.shape, one_hot_test_labels.shape)"
   ]
  },
  {
   "cell_type": "code",
   "execution_count": 14,
   "metadata": {},
   "outputs": [
    {
     "name": "stdout",
     "output_type": "stream",
     "text": [
      "(8982, 46) (2246, 46)\n"
     ]
    }
   ],
   "source": [
    "from keras.utils.np_utils import to_categorical\n",
    "\n",
    "one_hot_train_labels = to_categorical(train_labels)\n",
    "one_hot_test_labels = to_categorical(test_labels)\n",
    "\n",
    "print(one_hot_train_labels.shape, one_hot_test_labels.shape)"
   ]
  },
  {
   "cell_type": "code",
   "execution_count": 15,
   "metadata": {},
   "outputs": [],
   "source": [
    "from keras import models\n",
    "from keras import layers\n",
    "\n",
    "model = models.Sequential()\n",
    "model.add(layers.Dense(64, activation='relu', input_shape=(10000,)))\n",
    "model.add(layers.Dense(64, activation='relu'))\n",
    "model.add(layers.Dense(46, activation='softmax'))"
   ]
  },
  {
   "cell_type": "code",
   "execution_count": 16,
   "metadata": {},
   "outputs": [],
   "source": [
    "model.compile(optimizer='rmsprop',\n",
    "             loss='categorical_crossentropy',\n",
    "             metrics=['accuracy'])"
   ]
  },
  {
   "cell_type": "code",
   "execution_count": 17,
   "metadata": {},
   "outputs": [],
   "source": [
    "x_val = x_train[:1000]\n",
    "partial_x_train = x_train[1000:]\n",
    "\n",
    "y_val = one_hot_train_labels[:1000]\n",
    "partial_y_train = one_hot_train_labels[1000:]"
   ]
  },
  {
   "cell_type": "code",
   "execution_count": 18,
   "metadata": {},
   "outputs": [
    {
     "name": "stdout",
     "output_type": "stream",
     "text": [
      "WARNING:tensorflow:From /home/sasaki/.local/lib/python3.6/site-packages/keras/backend/tensorflow_backend.py:422: The name tf.global_variables is deprecated. Please use tf.compat.v1.global_variables instead.\n",
      "\n",
      "Train on 7982 samples, validate on 1000 samples\n",
      "Epoch 1/20\n",
      "7982/7982 [==============================] - 3s 331us/step - loss: 2.6796 - accuracy: 0.5182 - val_loss: 1.7256 - val_accuracy: 0.6220\n",
      "Epoch 2/20\n",
      "7982/7982 [==============================] - 1s 178us/step - loss: 1.4254 - accuracy: 0.7032 - val_loss: 1.3237 - val_accuracy: 0.7200\n",
      "Epoch 3/20\n",
      "7982/7982 [==============================] - 1s 177us/step - loss: 1.0681 - accuracy: 0.7737 - val_loss: 1.1538 - val_accuracy: 0.7500\n",
      "Epoch 4/20\n",
      "7982/7982 [==============================] - 2s 236us/step - loss: 0.8407 - accuracy: 0.8167 - val_loss: 1.0512 - val_accuracy: 0.7820\n",
      "Epoch 5/20\n",
      "7982/7982 [==============================] - 2s 252us/step - loss: 0.6660 - accuracy: 0.8552 - val_loss: 0.9923 - val_accuracy: 0.7760\n",
      "Epoch 6/20\n",
      "7982/7982 [==============================] - 1s 183us/step - loss: 0.5311 - accuracy: 0.8880 - val_loss: 0.9334 - val_accuracy: 0.8160\n",
      "Epoch 7/20\n",
      "7982/7982 [==============================] - 1s 179us/step - loss: 0.4243 - accuracy: 0.9109 - val_loss: 0.9054 - val_accuracy: 0.8150\n",
      "Epoch 8/20\n",
      "7982/7982 [==============================] - 2s 189us/step - loss: 0.3472 - accuracy: 0.9261 - val_loss: 0.8917 - val_accuracy: 0.8150\n",
      "Epoch 9/20\n",
      "7982/7982 [==============================] - 2s 190us/step - loss: 0.2860 - accuracy: 0.9375 - val_loss: 0.9370 - val_accuracy: 0.8030\n",
      "Epoch 10/20\n",
      "7982/7982 [==============================] - 2s 223us/step - loss: 0.2389 - accuracy: 0.9479 - val_loss: 0.9073 - val_accuracy: 0.8200\n",
      "Epoch 11/20\n",
      "7982/7982 [==============================] - 2s 219us/step - loss: 0.2077 - accuracy: 0.9474 - val_loss: 0.9353 - val_accuracy: 0.8090\n",
      "Epoch 12/20\n",
      "7982/7982 [==============================] - 2s 192us/step - loss: 0.1817 - accuracy: 0.9514 - val_loss: 0.9351 - val_accuracy: 0.8180\n",
      "Epoch 13/20\n",
      "7982/7982 [==============================] - 2s 194us/step - loss: 0.1674 - accuracy: 0.9525 - val_loss: 0.9574 - val_accuracy: 0.8150\n",
      "Epoch 14/20\n",
      "7982/7982 [==============================] - 2s 190us/step - loss: 0.1502 - accuracy: 0.9540 - val_loss: 0.9580 - val_accuracy: 0.8060\n",
      "Epoch 15/20\n",
      "7982/7982 [==============================] - 2s 210us/step - loss: 0.1407 - accuracy: 0.9557 - val_loss: 0.9996 - val_accuracy: 0.8010\n",
      "Epoch 16/20\n",
      "7982/7982 [==============================] - 2s 231us/step - loss: 0.1284 - accuracy: 0.9560 - val_loss: 0.9922 - val_accuracy: 0.8130\n",
      "Epoch 17/20\n",
      "7982/7982 [==============================] - 2s 200us/step - loss: 0.1237 - accuracy: 0.9565 - val_loss: 1.0258 - val_accuracy: 0.8080\n",
      "Epoch 18/20\n",
      "7982/7982 [==============================] - 1s 185us/step - loss: 0.1195 - accuracy: 0.9589 - val_loss: 1.0420 - val_accuracy: 0.8020\n",
      "Epoch 19/20\n",
      "7982/7982 [==============================] - 1s 185us/step - loss: 0.1128 - accuracy: 0.9582 - val_loss: 1.0456 - val_accuracy: 0.8070\n",
      "Epoch 20/20\n",
      "7982/7982 [==============================] - 1s 183us/step - loss: 0.1106 - accuracy: 0.9578 - val_loss: 1.0744 - val_accuracy: 0.8050\n"
     ]
    }
   ],
   "source": [
    "history = model.fit(partial_x_train,\n",
    "                   partial_y_train,\n",
    "                   epochs=20,\n",
    "                   batch_size=512,\n",
    "                   validation_data=(x_val, y_val))"
   ]
  },
  {
   "cell_type": "code",
   "execution_count": 20,
   "metadata": {},
   "outputs": [
    {
     "data": {
      "image/png": "[encoded data removed]",
      "text/plain": [
       "<matplotlib.figure.Figure at 0x7faa7214f470>"
      ]
     },
     "metadata": {},
     "output_type": "display_data"
    }
   ],
   "source": [
    "import matplotlib.pyplot as plt\n",
    "\n",
    "loss = history.history['loss']\n",
    "val_loss = history.history['val_loss']\n",
    "\n",
    "epochs = range(1, len(loss) + 1)\n",
    "\n",
    "plt.plot(epochs, loss, 'bo', label='Training loss')\n",
    "plt.plot(epochs, val_loss, 'b', label='Validation loss')\n",
    "plt.title('Training and Validation loss')\n",
    "plt.xlabel('Epochs')\n",
    "plt.ylabel('Loss')\n",
    "plt.legend()\n",
    "plt.show()\n"
   ]
  },
  {
   "cell_type": "code",
   "execution_count": 22,
   "metadata": {},
   "outputs": [
    {
     "data": {
      "image/png": "[encoded data removed]",
      "text/plain": [
       "<matplotlib.figure.Figure at 0x7faa72011128>"
      ]
     },
     "metadata": {},
     "output_type": "display_data"
    }
   ],
   "source": [
    "acc = history.history['accuracy']\n",
    "val_acc = history.history['val_accuracy']\n",
    "\n",
    "plt.plot(epochs, acc, 'bo', label='Training acc')\n",
    "plt.plot(epochs, val_acc, 'b', label='Validation acc')\n",
    "plt.title('Training and Validation accuracy')\n",
    "plt.xlabel('Epochs')\n",
    "plt.ylabel('Accuracy')\n",
    "plt.legend()\n",
    "plt.show()"
   ]
  },
  {
   "cell_type": "code",
   "execution_count": 24,
   "metadata": {},
   "outputs": [
    {
     "name": "stdout",
     "output_type": "stream",
     "text": [
      "Train on 7982 samples, validate on 1000 samples\n",
      "Epoch 1/8\n",
      "7982/7982 [==============================] - 2s 226us/step - loss: 2.9153 - accuracy: 0.4924 - val_loss: 1.9112 - val_accuracy: 0.6370\n",
      "Epoch 2/8\n",
      "7982/7982 [==============================] - 1s 184us/step - loss: 1.5226 - accuracy: 0.7020 - val_loss: 1.3618 - val_accuracy: 0.7030\n",
      "Epoch 3/8\n",
      "7982/7982 [==============================] - 1s 157us/step - loss: 1.0869 - accuracy: 0.7726 - val_loss: 1.1608 - val_accuracy: 0.7540\n",
      "Epoch 4/8\n",
      "7982/7982 [==============================] - 1s 182us/step - loss: 0.8492 - accuracy: 0.8203 - val_loss: 1.0433 - val_accuracy: 0.7840\n",
      "Epoch 5/8\n",
      "7982/7982 [==============================] - 1s 151us/step - loss: 0.6736 - accuracy: 0.8611 - val_loss: 0.9739 - val_accuracy: 0.8020\n",
      "Epoch 6/8\n",
      "7982/7982 [==============================] - 1s 149us/step - loss: 0.5373 - accuracy: 0.8891 - val_loss: 0.9304 - val_accuracy: 0.8070\n",
      "Epoch 7/8\n",
      "7982/7982 [==============================] - 1s 182us/step - loss: 0.4342 - accuracy: 0.9105 - val_loss: 0.9017 - val_accuracy: 0.8020\n",
      "Epoch 8/8\n",
      "7982/7982 [==============================] - 1s 184us/step - loss: 0.3486 - accuracy: 0.9262 - val_loss: 0.8978 - val_accuracy: 0.8150\n",
      "2246/2246 [==============================] - 1s 595us/step\n"
     ]
    },
    {
     "data": {
      "text/plain": [
       "[0.9947738464878588, 0.7818343639373779]"
      ]
     },
     "execution_count": 24,
     "metadata": {},
     "output_type": "execute_result"
    }
   ],
   "source": [
    "model = models.Sequential()\n",
    "model.add(layers.Dense(64, activation='relu', input_shape=(10000,)))\n",
    "model.add(layers.Dense(64, activation='relu'))\n",
    "model.add(layers.Dense(46, activation='softmax'))\n",
    "\n",
    "model.compile(optimizer='rmsprop',\n",
    "             loss='categorical_crossentropy',\n",
    "             metrics=['accuracy'])\n",
    "\n",
    "model.fit(partial_x_train,\n",
    "            partial_y_train,\n",
    "            epochs=8,\n",
    "            batch_size=512,\n",
    "            validation_data=(x_val, y_val))\n",
    "results = model.evaluate(x_test, one_hot_test_labels)\n",
    "results"
   ]
  },
  {
   "cell_type": "code",
   "execution_count": 28,
   "metadata": {},
   "outputs": [
    {
     "data": {
      "text/plain": [
       "0.1861086375779163"
      ]
     },
     "execution_count": 28,
     "metadata": {},
     "output_type": "execute_result"
    }
   ],
   "source": [
    "import copy\n",
    "\n",
    "test_labels_copy = copy.copy(test_labels)\n",
    "np.random.shuffle(test_labels_copy)\n",
    "float(np.sum(np.array(test_labels) == np.array(test_labels_copy))) / len(test_labels)"
   ]
  },
  {
   "cell_type": "code",
   "execution_count": 29,
   "metadata": {},
   "outputs": [
    {
     "data": {
      "text/plain": [
       "(46,)"
      ]
     },
     "execution_count": 29,
     "metadata": {},
     "output_type": "execute_result"
    }
   ],
   "source": [
    "predictions = model.predict(x_test)\n",
    "predictions[0].shape"
   ]
  },
  {
   "cell_type": "code",
   "execution_count": 30,
   "metadata": {},
   "outputs": [
    {
     "data": {
      "text/plain": [
       "1.0000004"
      ]
     },
     "execution_count": 30,
     "metadata": {},
     "output_type": "execute_result"
    }
   ],
   "source": [
    "np.sum(predictions[0])"
   ]
  },
  {
   "cell_type": "code",
   "execution_count": 31,
   "metadata": {},
   "outputs": [
    {
     "data": {
      "text/plain": [
       "3"
      ]
     },
     "execution_count": 31,
     "metadata": {},
     "output_type": "execute_result"
    }
   ],
   "source": [
    "np.argmax(predictions[0])"
   ]
  },
  {
   "cell_type": "code",
   "execution_count": 32,
   "metadata": {},
   "outputs": [
    {
     "name": "stdout",
     "output_type": "stream",
     "text": [
      "Train on 7982 samples, validate on 1000 samples\n",
      "Epoch 1/20\n",
      "7982/7982 [==============================] - 2s 271us/step - loss: 3.4836 - accuracy: 0.1320 - val_loss: 3.1991 - val_accuracy: 0.2700\n",
      "Epoch 2/20\n",
      "7982/7982 [==============================] - 2s 200us/step - loss: 2.9834 - accuracy: 0.2952 - val_loss: 2.8223 - val_accuracy: 0.2990\n",
      "Epoch 3/20\n",
      "7982/7982 [==============================] - 1s 157us/step - loss: 2.5756 - accuracy: 0.3292 - val_loss: 2.4819 - val_accuracy: 0.3240\n",
      "Epoch 4/20\n",
      "7982/7982 [==============================] - 1s 159us/step - loss: 2.2093 - accuracy: 0.3487 - val_loss: 2.1761 - val_accuracy: 0.3450\n",
      "Epoch 5/20\n",
      "7982/7982 [==============================] - 1s 188us/step - loss: 1.8724 - accuracy: 0.5496 - val_loss: 1.8779 - val_accuracy: 0.6510\n",
      "Epoch 6/20\n",
      "7982/7982 [==============================] - 1s 151us/step - loss: 1.5561 - accuracy: 0.6921 - val_loss: 1.6372 - val_accuracy: 0.6610\n",
      "Epoch 7/20\n",
      "7982/7982 [==============================] - 1s 173us/step - loss: 1.3365 - accuracy: 0.7088 - val_loss: 1.5027 - val_accuracy: 0.6700\n",
      "Epoch 8/20\n",
      "7982/7982 [==============================] - 1s 144us/step - loss: 1.1997 - accuracy: 0.7244 - val_loss: 1.4250 - val_accuracy: 0.6790\n",
      "Epoch 9/20\n",
      "7982/7982 [==============================] - 1s 164us/step - loss: 1.1066 - accuracy: 0.7433 - val_loss: 1.4060 - val_accuracy: 0.6780\n",
      "Epoch 10/20\n",
      "7982/7982 [==============================] - 2s 258us/step - loss: 1.0353 - accuracy: 0.7531 - val_loss: 1.3721 - val_accuracy: 0.6790\n",
      "Epoch 11/20\n",
      "7982/7982 [==============================] - 2s 275us/step - loss: 0.9773 - accuracy: 0.7591 - val_loss: 1.3505 - val_accuracy: 0.6890\n",
      "Epoch 12/20\n",
      "7982/7982 [==============================] - 1s 180us/step - loss: 0.9278 - accuracy: 0.7660 - val_loss: 1.3452 - val_accuracy: 0.6910\n",
      "Epoch 13/20\n",
      "7982/7982 [==============================] - 2s 200us/step - loss: 0.8805 - accuracy: 0.7692 - val_loss: 1.3474 - val_accuracy: 0.6900\n",
      "Epoch 14/20\n",
      "7982/7982 [==============================] - 1s 155us/step - loss: 0.8405 - accuracy: 0.7756 - val_loss: 1.3498 - val_accuracy: 0.6950\n",
      "Epoch 15/20\n",
      "7982/7982 [==============================] - 1s 153us/step - loss: 0.8042 - accuracy: 0.7845 - val_loss: 1.3479 - val_accuracy: 0.6970\n",
      "Epoch 16/20\n",
      "7982/7982 [==============================] - 1s 159us/step - loss: 0.7699 - accuracy: 0.7884 - val_loss: 1.3710 - val_accuracy: 0.6920\n",
      "Epoch 17/20\n",
      "7982/7982 [==============================] - 1s 161us/step - loss: 0.7398 - accuracy: 0.8007 - val_loss: 1.3753 - val_accuracy: 0.6970\n",
      "Epoch 18/20\n",
      "7982/7982 [==============================] - 1s 165us/step - loss: 0.7109 - accuracy: 0.8112 - val_loss: 1.3818 - val_accuracy: 0.7030\n",
      "Epoch 19/20\n",
      "7982/7982 [==============================] - 1s 181us/step - loss: 0.6823 - accuracy: 0.8196 - val_loss: 1.3996 - val_accuracy: 0.7040\n",
      "Epoch 20/20\n",
      "7982/7982 [==============================] - 1s 174us/step - loss: 0.6560 - accuracy: 0.8255 - val_loss: 1.4134 - val_accuracy: 0.7050\n"
     ]
    },
    {
     "data": {
      "text/plain": [
       "<keras.callbacks.callbacks.History at 0x7faa71ac8d30>"
      ]
     },
     "execution_count": 32,
     "metadata": {},
     "output_type": "execute_result"
    }
   ],
   "source": [
    "model = models.Sequential()\n",
    "model.add(layers.Dense(64, activation='relu', input_shape=(10000,)))\n",
    "model.add(layers.Dense(4, activation='relu'))\n",
    "model.add(layers.Dense(46, activation='softmax'))\n",
    "\n",
    "model.compile(optimizer='rmsprop',\n",
    "             loss='categorical_crossentropy',\n",
    "             metrics=['accuracy'])\n",
    "\n",
    "model.fit(partial_x_train,\n",
    "            partial_y_train,\n",
    "            epochs=20,\n",
    "            batch_size=512,\n",
    "            validation_data=(x_val, y_val))"
   ]
  },
  {
   "cell_type": "code",
   "execution_count": null,
   "metadata": {},
   "outputs": [],
   "source": []
  }
 ],
 "metadata": {
  "kernelspec": {
   "display_name": "Python 3",
   "language": "python",
   "name": "python3"
  },
  "language_info": {
   "codemirror_mode": {
    "name": "ipython",
    "version": 3
   },
   "file_extension": ".py",
   "mimetype": "text/x-python",
   "name": "python",
   "nbconvert_exporter": "python",
   "pygments_lexer": "ipython3",
   "version": "3.6.9"
  }
 },
 "nbformat": 4,
 "nbformat_minor": 2
}
