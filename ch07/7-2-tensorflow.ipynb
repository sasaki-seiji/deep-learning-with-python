{
 "cells": [
  {
   "cell_type": "code",
   "execution_count": 2,
   "metadata": {},
   "outputs": [
    {
     "name": "stdout",
     "output_type": "stream",
     "text": [
      "WARNING:tensorflow:From /home/sasaki/.local/lib/python3.6/site-packages/keras/backend/tensorflow_backend.py:4070: The name tf.nn.max_pool is deprecated. Please use tf.nn.max_pool2d instead.\n",
      "\n",
      "Model: \"sequential_1\"\n",
      "_________________________________________________________________\n",
      "Layer (type)                 Output Shape              Param #   \n",
      "=================================================================\n",
      "embed (Embedding)            (None, 500, 128)          256000    \n",
      "_________________________________________________________________\n",
      "conv1d_1 (Conv1D)            (None, 494, 32)           28704     \n",
      "_________________________________________________________________\n",
      "max_pooling1d_1 (MaxPooling1 (None, 98, 32)            0         \n",
      "_________________________________________________________________\n",
      "conv1d_2 (Conv1D)            (None, 92, 32)            7200      \n",
      "_________________________________________________________________\n",
      "global_max_pooling1d_1 (Glob (None, 32)                0         \n",
      "_________________________________________________________________\n",
      "dense_1 (Dense)              (None, 1)                 33        \n",
      "=================================================================\n",
      "Total params: 291,937\n",
      "Trainable params: 291,937\n",
      "Non-trainable params: 0\n",
      "_________________________________________________________________\n"
     ]
    }
   ],
   "source": [
    "import keras\n",
    "from keras import layers\n",
    "from keras.datasets import imdb\n",
    "from keras.preprocessing import sequence\n",
    "\n",
    "max_features = 2000 # word number as feature\n",
    "max_len = 500       # cut text over these words\n",
    "\n",
    "(x_train, y_train), (x_test, y_test) =\\\n",
    "    imdb.load_data(num_words=max_features)\n",
    "x_train = sequence.pad_sequences(x_train, maxlen=max_len)\n",
    "x_test = sequence.pad_sequences(x_test, maxlen=max_len)\n",
    "\n",
    "model = keras.models.Sequential()\n",
    "model.add(layers.Embedding(max_features, 128,\n",
    "                          input_length=max_len,\n",
    "                          name='embed'))\n",
    "\n",
    "model.add(layers.Conv1D(32, 7, activation='relu'))\n",
    "model.add(layers.MaxPooling1D(5))\n",
    "model.add(layers.Conv1D(32, 7, activation='relu'))\n",
    "model.add(layers.GlobalMaxPooling1D())\n",
    "model.add(layers.Dense(1))\n",
    "model.summary()\n",
    "model.compile(optimizer='rmsprop',\n",
    "             loss='binary_crossentropy',\n",
    "             metrics=['acc'])\n",
    "                        "
   ]
  },
  {
   "cell_type": "code",
   "execution_count": 2,
   "metadata": {
    "scrolled": true
   },
   "outputs": [
    {
     "name": "stdout",
     "output_type": "stream",
     "text": [
      "WARNING:tensorflow:From /home/sasaki/.local/lib/python3.6/site-packages/tensorflow/python/ops/math_grad.py:1250: add_dispatch_support.<locals>.wrapper (from tensorflow.python.ops.array_ops) is deprecated and will be removed in a future version.\n",
      "Instructions for updating:\n",
      "Use tf.where in 2.0, which has the same broadcast rule as np.where\n",
      "WARNING:tensorflow:From /home/sasaki/.local/lib/python3.6/site-packages/keras/backend/tensorflow_backend.py:422: The name tf.global_variables is deprecated. Please use tf.compat.v1.global_variables instead.\n",
      "\n",
      "Train on 20000 samples, validate on 5000 samples\n",
      "WARNING:tensorflow:From /home/sasaki/.local/lib/python3.6/site-packages/keras/callbacks/tensorboard_v1.py:146: The name tf.summary.histogram is deprecated. Please use tf.compat.v1.summary.histogram instead.\n",
      "\n",
      "WARNING:tensorflow:From /home/sasaki/.local/lib/python3.6/site-packages/keras/callbacks/tensorboard_v1.py:200: The name tf.summary.merge_all is deprecated. Please use tf.compat.v1.summary.merge_all instead.\n",
      "\n",
      "WARNING:tensorflow:From /home/sasaki/.local/lib/python3.6/site-packages/keras/callbacks/tensorboard_v1.py:203: The name tf.summary.FileWriter is deprecated. Please use tf.compat.v1.summary.FileWriter instead.\n",
      "\n",
      "WARNING:tensorflow:From /home/sasaki/.local/lib/python3.6/site-packages/keras/callbacks/tensorboard_v1.py:220: The name tf.placeholder is deprecated. Please use tf.compat.v1.placeholder instead.\n",
      "\n",
      "WARNING:tensorflow:From /home/sasaki/.local/lib/python3.6/site-packages/keras/callbacks/tensorboard_v1.py:233: The name tf.assign is deprecated. Please use tf.compat.v1.assign instead.\n",
      "\n",
      "WARNING:tensorflow:From /home/sasaki/.local/lib/python3.6/site-packages/keras/callbacks/tensorboard_v1.py:237: The name tf.train.Saver is deprecated. Please use tf.compat.v1.train.Saver instead.\n",
      "\n",
      "Epoch 1/10\n",
      "20000/20000 [==============================] - 44s 2ms/step - loss: 0.6146 - acc: 0.6643 - val_loss: 0.8438 - val_acc: 0.6610\n",
      "WARNING:tensorflow:From /home/sasaki/.local/lib/python3.6/site-packages/keras/callbacks/tensorboard_v1.py:343: The name tf.Summary is deprecated. Please use tf.compat.v1.Summary instead.\n",
      "\n",
      "Epoch 2/10\n",
      "20000/20000 [==============================] - 43s 2ms/step - loss: 0.4463 - acc: 0.8193 - val_loss: 0.4350 - val_acc: 0.8220\n",
      "Epoch 3/10\n",
      "20000/20000 [==============================] - 43s 2ms/step - loss: 0.3672 - acc: 0.8054 - val_loss: 0.4898 - val_acc: 0.7776\n",
      "Epoch 4/10\n",
      "20000/20000 [==============================] - 44s 2ms/step - loss: 0.3507 - acc: 0.7592 - val_loss: 0.5075 - val_acc: 0.7486\n",
      "Epoch 5/10\n",
      "20000/20000 [==============================] - 43s 2ms/step - loss: 0.2992 - acc: 0.7127 - val_loss: 0.5274 - val_acc: 0.7142\n",
      "Epoch 6/10\n",
      "20000/20000 [==============================] - 45s 2ms/step - loss: 0.2411 - acc: 0.7061 - val_loss: 0.6968 - val_acc: 0.6132\n",
      "WARNING:tensorflow:From /home/sasaki/.local/lib/python3.6/site-packages/tensorflow/python/training/saver.py:960: remove_checkpoint (from tensorflow.python.training.checkpoint_management) is deprecated and will be removed in a future version.\n",
      "Instructions for updating:\n",
      "Use standard file APIs to delete files with this prefix.\n",
      "Epoch 7/10\n",
      "20000/20000 [==============================] - 43s 2ms/step - loss: 0.2167 - acc: 0.6299 - val_loss: 0.6807 - val_acc: 0.5658\n",
      "Epoch 8/10\n",
      "20000/20000 [==============================] - 43s 2ms/step - loss: 0.1832 - acc: 0.5733 - val_loss: 0.8077 - val_acc: 0.4960\n",
      "Epoch 9/10\n",
      "20000/20000 [==============================] - 44s 2ms/step - loss: 0.1518 - acc: 0.4970 - val_loss: 0.8908 - val_acc: 0.4220\n",
      "Epoch 10/10\n",
      "20000/20000 [==============================] - 43s 2ms/step - loss: 0.1225 - acc: 0.4753 - val_loss: 0.9117 - val_acc: 0.3964\n"
     ]
    }
   ],
   "source": [
    "callbacks = [\n",
    "    keras.callbacks.TensorBoard(\n",
    "        log_dir='my_log_dir', # log file is writen into this directory\n",
    "        histogram_freq=1,     # record activation histogram per epoch\n",
    "        embeddings_freq=1,    # record embeddgin data per epoch\n",
    "        # 2020.02.22 add\n",
    "        embeddings_data=x_train[:100],\n",
    "    )\n",
    "]\n",
    "\n",
    "history = model.fit(x_train, y_train,\n",
    "                   epochs=10,\n",
    "                   batch_size=128,\n",
    "                   validation_split=0.2,\n",
    "                   callbacks=callbacks)"
   ]
  },
  {
   "cell_type": "code",
   "execution_count": 3,
   "metadata": {
    "scrolled": false
   },
   "outputs": [
    {
     "data": {
      "image/png": "[encoded data removed]",
      "text/plain": [
       "<IPython.core.display.Image object>"
      ]
     },
     "execution_count": 3,
     "metadata": {},
     "output_type": "execute_result"
    }
   ],
   "source": [
    "from keras.utils import plot_model\n",
    "plot_model(model, to_file='model.png')"
   ]
  },
  {
   "cell_type": "code",
   "execution_count": null,
   "metadata": {},
   "outputs": [],
   "source": []
  }
 ],
 "metadata": {
  "kernelspec": {
   "display_name": "Python 3",
   "language": "python",
   "name": "python3"
  },
  "language_info": {
   "codemirror_mode": {
    "name": "ipython",
    "version": 3
   },
   "file_extension": ".py",
   "mimetype": "text/x-python",
   "name": "python",
   "nbconvert_exporter": "python",
   "pygments_lexer": "ipython3",
   "version": "3.6.9"
  }
 },
 "nbformat": 4,
 "nbformat_minor": 2
}
