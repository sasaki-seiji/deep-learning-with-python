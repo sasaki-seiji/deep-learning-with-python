{
 "cells": [
  {
   "cell_type": "code",
   "execution_count": 8,
   "metadata": {},
   "outputs": [],
   "source": [
    "from keras.datasets import imdb\n",
    "\n",
    "(train_data, train_labels), (test_data, test_labels) = imdb.load_data(num_words=10000)"
   ]
  },
  {
   "cell_type": "code",
   "execution_count": 9,
   "metadata": {},
   "outputs": [],
   "source": [
    "import numpy as np\n",
    "\n",
    "def vectorize_sequences(sequences, dimension=10000):\n",
    "    # Create an all-zero matrix of shape (len(sequences), dimension)\n",
    "    results = np.zeros((len(sequences), dimension))\n",
    "    for i, sequence in enumerate(sequences):\n",
    "        results[i, sequence] = 1.  # set specific indices of results[i] to 1s\n",
    "    return results\n",
    "\n",
    "# Our vectorized training data\n",
    "x = vectorize_sequences(train_data)\n",
    "# Our vectorized test data\n",
    "x_val = vectorize_sequences(test_data)"
   ]
  },
  {
   "cell_type": "code",
   "execution_count": 10,
   "metadata": {},
   "outputs": [],
   "source": [
    "# Our vectorized labels\n",
    "y = np.asarray(train_labels).astype('float32')\n",
    "y_val = np.asarray(test_labels).astype('float32')"
   ]
  },
  {
   "cell_type": "code",
   "execution_count": 11,
   "metadata": {},
   "outputs": [],
   "source": [
    "from keras import models\n",
    "from keras import layers\n",
    "\n",
    "model = models.Sequential()\n",
    "model.add(layers.Dense(16, activation='relu', input_shape=(10000,)))\n",
    "model.add(layers.Dense(16, activation='relu'))\n",
    "model.add(layers.Dense(1, activation='sigmoid'))"
   ]
  },
  {
   "cell_type": "code",
   "execution_count": 14,
   "metadata": {
    "scrolled": true
   },
   "outputs": [
    {
     "name": "stdout",
     "output_type": "stream",
     "text": [
      "Train on 25000 samples, validate on 25000 samples\n",
      "Epoch 1/10\n",
      "25000/25000 [==============================] - 6s 245us/step - loss: 0.1604 - acc: 0.9420 - val_loss: 0.3408 - val_acc: 0.8773\n",
      "Epoch 2/10\n",
      "25000/25000 [==============================] - 6s 235us/step - loss: 0.1419 - acc: 0.9506 - val_loss: 0.3651 - val_acc: 0.8766\n",
      "Epoch 3/10\n",
      "25000/25000 [==============================] - 6s 228us/step - loss: 0.1264 - acc: 0.9571 - val_loss: 0.3893 - val_acc: 0.8736\n"
     ]
    },
    {
     "data": {
      "text/plain": [
       "<keras.callbacks.callbacks.History at 0x7fda16b0d828>"
      ]
     },
     "execution_count": 14,
     "metadata": {},
     "output_type": "execute_result"
    }
   ],
   "source": [
    "import keras\n",
    "\n",
    "# callback is sent to the model through callbacks parameter of fit call\n",
    "# this parameter receives callback list\n",
    "# we can specify as many as parameters we want\n",
    "callbacks_list = [\n",
    "    # stop train on obtaining no more improvement\n",
    "    keras.callbacks.EarlyStopping(\n",
    "        monitor='val_acc', # monitor model's accuracy to validation data\n",
    "#        patience=1,        # if no improvement among 2 epochs,\n",
    "        patience=2,        # if no improvement among 3 epochs,\n",
    "                           # stop train\n",
    "    ),\n",
    "    # save the current weighs on each epoch\n",
    "    keras.callbacks.ModelCheckpoint(\n",
    "        filepath='my_model.h5', # file path to save model\n",
    "        monitor='val_loss',     # these two paramters mean that\n",
    "        save_best_only=True     # we do not overwrite model file \n",
    "                                # without improvement \n",
    "    )\n",
    "]\n",
    "\n",
    "# in this case we monitor accuracy\n",
    "# then accuracy must be part of metrics of model\n",
    "model.compile(optimizer='rmsprop',\n",
    "             loss='binary_crossentropy',\n",
    "             metrics=['acc'])\n",
    "\n",
    "# this callback monitors val_loss and val_acc,\n",
    "# so we need to specify valildation_data for fit call\n",
    "model.fit(x, y,\n",
    "         epochs=10,\n",
    "         batch_size=32,\n",
    "         callbacks=callbacks_list,\n",
    "         validation_data=(x_val, y_val))"
   ]
  },
  {
   "cell_type": "code",
   "execution_count": null,
   "metadata": {},
   "outputs": [],
   "source": []
  }
 ],
 "metadata": {
  "kernelspec": {
   "display_name": "Python 3",
   "language": "python",
   "name": "python3"
  },
  "language_info": {
   "codemirror_mode": {
    "name": "ipython",
    "version": 3
   },
   "file_extension": ".py",
   "mimetype": "text/x-python",
   "name": "python",
   "nbconvert_exporter": "python",
   "pygments_lexer": "ipython3",
   "version": "3.6.9"
  }
 },
 "nbformat": 4,
 "nbformat_minor": 2
}
